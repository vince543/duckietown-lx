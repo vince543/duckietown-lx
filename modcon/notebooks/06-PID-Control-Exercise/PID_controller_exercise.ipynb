{
 "cells": [
  {
   "cell_type": "markdown",
   "metadata": {},
   "source": [
    "<p style=\"text-align: center\">\n",
    "<img src=\"../../assets/images/dtlogo.png\" alt=\"Duckietown\" width=\"50%\">\n",
    "</p>"
   ]
  },
  {
   "cell_type": "markdown",
   "metadata": {
    "tags": []
   },
   "source": [
    "# 💻 06 - PID controller homework"
   ]
  },
  {
   "cell_type": "markdown",
   "metadata": {
    "tags": []
   },
   "source": [
    "In the previous activities we have built up the tools needed to deploy a PID controller. We have used as control signal the angular speed ($\\omega$) and as controlled variable the heading of the Duckiebot ($\\theta$).\n",
    "\n",
    "In this exercise you will use what you have learned so far to write a PID controller to command the angular speed of your Duckiebot, to compensate an initial lateral position offset of $0.2 \\text{m}$. \n",
    "\n",
    "Your robot will have to rely on its own odometry to estimate its current position.\n",
    "\n",
    "**Note**: the function(s) used to compute the odometry will be taken from your previous answers in the [odometry activity](../04-Odometry/odometry_activity.ipynb). Make sure you are happy about them!\n",
    "\n",
    "The Duckiebot's speed is constant and given: $v_0 = 0.2$. \n",
    "\n",
    "May the duck be with you!"
   ]
  },
  {
   "cell_type": "markdown",
   "metadata": {
    "collapsed": false
   },
   "source": [
    "## Implement PID controller for lateral control\n",
    "\n",
    "Implement the function `PIDController` inside the file [pid_controller_homework.py](../../packages/solution/pid_controller_homework.py).\n",
    "\n",
    "The controller you are asked to write performs PID control on the $y$ coordinate (in the world frame) of the Duckiebot. It receives the following inputs:\n",
    "\n",
    "    v_0:        linear Duckiebot speed (constant).\n",
    "    y_ref:      target y coordinate.\n",
    "    y_hat:      the current estimated y.\n",
    "    prev_e_y:   tracking error at previous iteration.\n",
    "    prev_int_y: previous integral error term.\n",
    "    delta_t:    time interval since last call.\n",
    "\n",
    "and it will produce the following outputs:\n",
    "\n",
    "    v_0:     linear velocity of the Duckiebot\n",
    "    omega:   angular velocity of the Duckiebot\n",
    "    e:       current tracking error (automatically becomes prev_e_y at next iteration).\n",
    "    e_int:   current integral error (automatically becomes prev_int_y at next iteration).\n"
   ]
  },
  {
   "cell_type": "markdown",
   "metadata": {},
   "source": [
    "### Sanity Check"
   ]
  },
  {
   "cell_type": "code",
   "execution_count": 6,
   "metadata": {
    "collapsed": false,
    "pycharm": {
     "is_executing": true,
     "name": "#%%\n"
    }
   },
   "outputs": [],
   "source": [
    "%load_ext autoreload\n",
    "%autoreload 2"
   ]
  },
  {
   "cell_type": "code",
   "execution_count": 7,
   "metadata": {},
   "outputs": [
    {
     "ename": "TypeError",
     "evalue": "@runtime_checkable can be only applied to protocol classes, got <class 'zuper_json.zeneric2._NestedSequence'>",
     "output_type": "error",
     "traceback": [
      "\u001b[0;31m---------------------------------------------------------------------------\u001b[0m",
      "\u001b[0;31mTypeError\u001b[0m                                 Traceback (most recent call last)",
      "\u001b[1;32m/home/vincent/duckietown-lx/modcon/notebooks/06-PID-Control-Exercise/PID_controller_exercise.ipynb Cell 7\u001b[0m line \u001b[0;36m5\n\u001b[1;32m      <a href='vscode-notebook-cell:/home/vincent/duckietown-lx/modcon/notebooks/06-PID-Control-Exercise/PID_controller_exercise.ipynb#W6sZmlsZQ%3D%3D?line=0'>1</a>\u001b[0m \u001b[39mimport\u001b[39;00m \u001b[39msys\u001b[39;00m\n\u001b[1;32m      <a href='vscode-notebook-cell:/home/vincent/duckietown-lx/modcon/notebooks/06-PID-Control-Exercise/PID_controller_exercise.ipynb#W6sZmlsZQ%3D%3D?line=2'>3</a>\u001b[0m sys\u001b[39m.\u001b[39mpath\u001b[39m.\u001b[39mappend(\u001b[39m\"\u001b[39m\u001b[39m/home/vincent/duckietown-lx/modcon/notebooks/06-PID-Control-Exercise/tests\u001b[39m\u001b[39m\"\u001b[39m)\n\u001b[0;32m----> <a href='vscode-notebook-cell:/home/vincent/duckietown-lx/modcon/notebooks/06-PID-Control-Exercise/PID_controller_exercise.ipynb#W6sZmlsZQ%3D%3D?line=4'>5</a>\u001b[0m \u001b[39mfrom\u001b[39;00m \u001b[39munit_test\u001b[39;00m \u001b[39mimport\u001b[39;00m UnitTestPositionPID\n\u001b[1;32m      <a href='vscode-notebook-cell:/home/vincent/duckietown-lx/modcon/notebooks/06-PID-Control-Exercise/PID_controller_exercise.ipynb#W6sZmlsZQ%3D%3D?line=6'>7</a>\u001b[0m \u001b[39mfrom\u001b[39;00m \u001b[39msolution\u001b[39;00m\u001b[39m.\u001b[39;00m\u001b[39mpid_controller_homework\u001b[39;00m \u001b[39mimport\u001b[39;00m PIDController\n\u001b[1;32m      <a href='vscode-notebook-cell:/home/vincent/duckietown-lx/modcon/notebooks/06-PID-Control-Exercise/PID_controller_exercise.ipynb#W6sZmlsZQ%3D%3D?line=8'>9</a>\u001b[0m \u001b[39m# Write here the values of the kinematics parameters you calculated during the activities.\u001b[39;00m\n\u001b[1;32m     <a href='vscode-notebook-cell:/home/vincent/duckietown-lx/modcon/notebooks/06-PID-Control-Exercise/PID_controller_exercise.ipynb#W6sZmlsZQ%3D%3D?line=9'>10</a>\u001b[0m \u001b[39m# This test will give you an idea of the behavior of the controller you wrote above.\u001b[39;00m\n\u001b[1;32m     <a href='vscode-notebook-cell:/home/vincent/duckietown-lx/modcon/notebooks/06-PID-Control-Exercise/PID_controller_exercise.ipynb#W6sZmlsZQ%3D%3D?line=10'>11</a>\u001b[0m \u001b[39m# Try to play with the parameters, change R, the baseline all the PID variables,\u001b[39;00m\n\u001b[1;32m     <a href='vscode-notebook-cell:/home/vincent/duckietown-lx/modcon/notebooks/06-PID-Control-Exercise/PID_controller_exercise.ipynb#W6sZmlsZQ%3D%3D?line=11'>12</a>\u001b[0m \u001b[39m# What change in the resulting graphs? Why?\u001b[39;00m\n\u001b[1;32m     <a href='vscode-notebook-cell:/home/vincent/duckietown-lx/modcon/notebooks/06-PID-Control-Exercise/PID_controller_exercise.ipynb#W6sZmlsZQ%3D%3D?line=12'>13</a>\u001b[0m \n\u001b[1;32m     <a href='vscode-notebook-cell:/home/vincent/duckietown-lx/modcon/notebooks/06-PID-Control-Exercise/PID_controller_exercise.ipynb#W6sZmlsZQ%3D%3D?line=13'>14</a>\u001b[0m \u001b[39m# Note: this sanity check is neither a prerequisite for completing the exercise nor an instrument for tuning your controller. \u001b[39;00m\n",
      "File \u001b[0;32m~/duckietown-lx/modcon/notebooks/06-PID-Control-Exercise/tests/unit_test.py:1\u001b[0m\n\u001b[0;32m----> 1\u001b[0m \u001b[39mimport\u001b[39;00m \u001b[39mnumpy\u001b[39;00m \u001b[39mas\u001b[39;00m \u001b[39mnp\u001b[39;00m\n\u001b[1;32m      4\u001b[0m \u001b[39mclass\u001b[39;00m \u001b[39mUnitTestMessage\u001b[39;00m:\n\u001b[1;32m      5\u001b[0m     \u001b[39m# Test the WheelEncoderStamped messages\u001b[39;00m\n\u001b[1;32m      6\u001b[0m     \u001b[39mdef\u001b[39;00m \u001b[39m__init__\u001b[39m(\u001b[39mself\u001b[39m, callback):\n",
      "File \u001b[0;32m~/.local/lib/python3.10/site-packages/numpy/__init__.py:149\u001b[0m\n\u001b[1;32m    147\u001b[0m \u001b[39mfrom\u001b[39;00m \u001b[39m.\u001b[39;00m \u001b[39mimport\u001b[39;00m exceptions\n\u001b[1;32m    148\u001b[0m \u001b[39mfrom\u001b[39;00m \u001b[39m.\u001b[39;00m \u001b[39mimport\u001b[39;00m dtypes\n\u001b[0;32m--> 149\u001b[0m \u001b[39mfrom\u001b[39;00m \u001b[39m.\u001b[39;00m \u001b[39mimport\u001b[39;00m lib\n\u001b[1;32m    150\u001b[0m \u001b[39m# NOTE: to be revisited following future namespace cleanup.\u001b[39;00m\n\u001b[1;32m    151\u001b[0m \u001b[39m# See gh-14454 and gh-15672 for discussion.\u001b[39;00m\n\u001b[1;32m    152\u001b[0m \u001b[39mfrom\u001b[39;00m \u001b[39m.\u001b[39;00m\u001b[39mlib\u001b[39;00m \u001b[39mimport\u001b[39;00m \u001b[39m*\u001b[39m\n",
      "File \u001b[0;32m~/.local/lib/python3.10/site-packages/numpy/lib/__init__.py:23\u001b[0m\n\u001b[1;32m     20\u001b[0m \u001b[39m# Private submodules\u001b[39;00m\n\u001b[1;32m     21\u001b[0m \u001b[39m# load module names. See https://github.com/networkx/networkx/issues/5838\u001b[39;00m\n\u001b[1;32m     22\u001b[0m \u001b[39mfrom\u001b[39;00m \u001b[39m.\u001b[39;00m \u001b[39mimport\u001b[39;00m type_check\n\u001b[0;32m---> 23\u001b[0m \u001b[39mfrom\u001b[39;00m \u001b[39m.\u001b[39;00m \u001b[39mimport\u001b[39;00m index_tricks\n\u001b[1;32m     24\u001b[0m \u001b[39mfrom\u001b[39;00m \u001b[39m.\u001b[39;00m \u001b[39mimport\u001b[39;00m function_base\n\u001b[1;32m     25\u001b[0m \u001b[39mfrom\u001b[39;00m \u001b[39m.\u001b[39;00m \u001b[39mimport\u001b[39;00m nanfunctions\n",
      "File \u001b[0;32m~/.local/lib/python3.10/site-packages/numpy/lib/index_tricks.py:12\u001b[0m\n\u001b[1;32m      9\u001b[0m \u001b[39mfrom\u001b[39;00m \u001b[39mnumpy\u001b[39;00m\u001b[39m.\u001b[39;00m\u001b[39mcore\u001b[39;00m\u001b[39m.\u001b[39;00m\u001b[39mnumeric\u001b[39;00m \u001b[39mimport\u001b[39;00m ScalarType, array\n\u001b[1;32m     10\u001b[0m \u001b[39mfrom\u001b[39;00m \u001b[39mnumpy\u001b[39;00m\u001b[39m.\u001b[39;00m\u001b[39mcore\u001b[39;00m\u001b[39m.\u001b[39;00m\u001b[39mnumerictypes\u001b[39;00m \u001b[39mimport\u001b[39;00m issubdtype\n\u001b[0;32m---> 12\u001b[0m \u001b[39mimport\u001b[39;00m \u001b[39mnumpy\u001b[39;00m\u001b[39m.\u001b[39;00m\u001b[39mmatrixlib\u001b[39;00m \u001b[39mas\u001b[39;00m \u001b[39mmatrixlib\u001b[39;00m\n\u001b[1;32m     13\u001b[0m \u001b[39mfrom\u001b[39;00m \u001b[39m.\u001b[39;00m\u001b[39mfunction_base\u001b[39;00m \u001b[39mimport\u001b[39;00m diff\n\u001b[1;32m     14\u001b[0m \u001b[39mfrom\u001b[39;00m \u001b[39mnumpy\u001b[39;00m\u001b[39m.\u001b[39;00m\u001b[39mcore\u001b[39;00m\u001b[39m.\u001b[39;00m\u001b[39mmultiarray\u001b[39;00m \u001b[39mimport\u001b[39;00m ravel_multi_index, unravel_index\n",
      "File \u001b[0;32m~/.local/lib/python3.10/site-packages/numpy/matrixlib/__init__.py:4\u001b[0m\n\u001b[1;32m      1\u001b[0m \u001b[39m\"\"\"Sub-package containing the matrix class and related functions.\u001b[39;00m\n\u001b[1;32m      2\u001b[0m \n\u001b[1;32m      3\u001b[0m \u001b[39m\"\"\"\u001b[39;00m\n\u001b[0;32m----> 4\u001b[0m \u001b[39mfrom\u001b[39;00m \u001b[39m.\u001b[39;00m \u001b[39mimport\u001b[39;00m defmatrix\n\u001b[1;32m      5\u001b[0m \u001b[39mfrom\u001b[39;00m \u001b[39m.\u001b[39;00m\u001b[39mdefmatrix\u001b[39;00m \u001b[39mimport\u001b[39;00m \u001b[39m*\u001b[39m\n\u001b[1;32m      7\u001b[0m __all__ \u001b[39m=\u001b[39m defmatrix\u001b[39m.\u001b[39m__all__\n",
      "File \u001b[0;32m~/.local/lib/python3.10/site-packages/numpy/matrixlib/defmatrix.py:12\u001b[0m\n\u001b[1;32m      9\u001b[0m \u001b[39mfrom\u001b[39;00m \u001b[39mnumpy\u001b[39;00m\u001b[39m.\u001b[39;00m\u001b[39mcore\u001b[39;00m\u001b[39m.\u001b[39;00m\u001b[39mnumeric\u001b[39;00m \u001b[39mimport\u001b[39;00m concatenate, isscalar\n\u001b[1;32m     10\u001b[0m \u001b[39m# While not in __all__, matrix_power used to be defined here, so we import\u001b[39;00m\n\u001b[1;32m     11\u001b[0m \u001b[39m# it for backward compatibility.\u001b[39;00m\n\u001b[0;32m---> 12\u001b[0m \u001b[39mfrom\u001b[39;00m \u001b[39mnumpy\u001b[39;00m\u001b[39m.\u001b[39;00m\u001b[39mlinalg\u001b[39;00m \u001b[39mimport\u001b[39;00m matrix_power\n\u001b[1;32m     15\u001b[0m \u001b[39mdef\u001b[39;00m \u001b[39m_convert_from_string\u001b[39m(data):\n\u001b[1;32m     16\u001b[0m     \u001b[39mfor\u001b[39;00m char \u001b[39min\u001b[39;00m \u001b[39m'\u001b[39m\u001b[39m[]\u001b[39m\u001b[39m'\u001b[39m:\n",
      "File \u001b[0;32m~/.local/lib/python3.10/site-packages/numpy/linalg/__init__.py:73\u001b[0m\n\u001b[1;32m      1\u001b[0m \u001b[39m\"\"\"\u001b[39;00m\n\u001b[1;32m      2\u001b[0m \u001b[39m``numpy.linalg``\u001b[39;00m\n\u001b[1;32m      3\u001b[0m \u001b[39m================\u001b[39;00m\n\u001b[0;32m   (...)\u001b[0m\n\u001b[1;32m     70\u001b[0m \n\u001b[1;32m     71\u001b[0m \u001b[39m\"\"\"\u001b[39;00m\n\u001b[1;32m     72\u001b[0m \u001b[39m# To get sub-modules\u001b[39;00m\n\u001b[0;32m---> 73\u001b[0m \u001b[39mfrom\u001b[39;00m \u001b[39m.\u001b[39;00m \u001b[39mimport\u001b[39;00m linalg\n\u001b[1;32m     74\u001b[0m \u001b[39mfrom\u001b[39;00m \u001b[39m.\u001b[39;00m\u001b[39mlinalg\u001b[39;00m \u001b[39mimport\u001b[39;00m \u001b[39m*\u001b[39m\n\u001b[1;32m     76\u001b[0m __all__ \u001b[39m=\u001b[39m linalg\u001b[39m.\u001b[39m__all__\u001b[39m.\u001b[39mcopy()\n",
      "File \u001b[0;32m~/.local/lib/python3.10/site-packages/numpy/linalg/linalg.py:37\u001b[0m\n\u001b[1;32m     34\u001b[0m \u001b[39mfrom\u001b[39;00m \u001b[39mnumpy\u001b[39;00m\u001b[39m.\u001b[39;00m\u001b[39mlib\u001b[39;00m\u001b[39m.\u001b[39;00m\u001b[39mtwodim_base\u001b[39;00m \u001b[39mimport\u001b[39;00m triu, eye\n\u001b[1;32m     35\u001b[0m \u001b[39mfrom\u001b[39;00m \u001b[39mnumpy\u001b[39;00m\u001b[39m.\u001b[39;00m\u001b[39mlinalg\u001b[39;00m \u001b[39mimport\u001b[39;00m _umath_linalg\n\u001b[0;32m---> 37\u001b[0m \u001b[39mfrom\u001b[39;00m \u001b[39mnumpy\u001b[39;00m\u001b[39m.\u001b[39;00m\u001b[39m_typing\u001b[39;00m \u001b[39mimport\u001b[39;00m NDArray\n\u001b[1;32m     39\u001b[0m \u001b[39mclass\u001b[39;00m \u001b[39mEigResult\u001b[39;00m(NamedTuple):\n\u001b[1;32m     40\u001b[0m     eigenvalues: NDArray[Any]\n",
      "File \u001b[0;32m~/.local/lib/python3.10/site-packages/numpy/_typing/__init__.py:92\u001b[0m\n\u001b[1;32m     88\u001b[0m \u001b[39mclass\u001b[39;00m \u001b[39m_8Bit\u001b[39;00m(_16Bit):  \u001b[39m# type: ignore[misc]\u001b[39;00m\n\u001b[1;32m     89\u001b[0m     \u001b[39mpass\u001b[39;00m\n\u001b[0;32m---> 92\u001b[0m \u001b[39mfrom\u001b[39;00m \u001b[39m.\u001b[39;00m\u001b[39m_nested_sequence\u001b[39;00m \u001b[39mimport\u001b[39;00m (\n\u001b[1;32m     93\u001b[0m     _NestedSequence \u001b[39mas\u001b[39;00m _NestedSequence,\n\u001b[1;32m     94\u001b[0m )\n\u001b[1;32m     95\u001b[0m \u001b[39mfrom\u001b[39;00m \u001b[39m.\u001b[39;00m\u001b[39m_nbit\u001b[39;00m \u001b[39mimport\u001b[39;00m (\n\u001b[1;32m     96\u001b[0m     _NBitByte \u001b[39mas\u001b[39;00m _NBitByte,\n\u001b[1;32m     97\u001b[0m     _NBitShort \u001b[39mas\u001b[39;00m _NBitShort,\n\u001b[0;32m   (...)\u001b[0m\n\u001b[1;32m    105\u001b[0m     _NBitLongDouble \u001b[39mas\u001b[39;00m _NBitLongDouble,\n\u001b[1;32m    106\u001b[0m )\n\u001b[1;32m    107\u001b[0m \u001b[39mfrom\u001b[39;00m \u001b[39m.\u001b[39;00m\u001b[39m_char_codes\u001b[39;00m \u001b[39mimport\u001b[39;00m (\n\u001b[1;32m    108\u001b[0m     _BoolCodes \u001b[39mas\u001b[39;00m _BoolCodes,\n\u001b[1;32m    109\u001b[0m     _UInt8Codes \u001b[39mas\u001b[39;00m _UInt8Codes,\n\u001b[0;32m   (...)\u001b[0m\n\u001b[1;32m    146\u001b[0m     _ObjectCodes \u001b[39mas\u001b[39;00m _ObjectCodes,\n\u001b[1;32m    147\u001b[0m )\n",
      "File \u001b[0;32m~/.local/lib/python3.10/site-packages/numpy/_typing/_nested_sequence.py:19\u001b[0m\n\u001b[1;32m     13\u001b[0m __all__ \u001b[39m=\u001b[39m [\u001b[39m\"\u001b[39m\u001b[39m_NestedSequence\u001b[39m\u001b[39m\"\u001b[39m]\n\u001b[1;32m     15\u001b[0m _T_co \u001b[39m=\u001b[39m TypeVar(\u001b[39m\"\u001b[39m\u001b[39m_T_co\u001b[39m\u001b[39m\"\u001b[39m, covariant\u001b[39m=\u001b[39m\u001b[39mTrue\u001b[39;00m)\n\u001b[1;32m     18\u001b[0m \u001b[39m@runtime_checkable\u001b[39;49m\n\u001b[0;32m---> 19\u001b[0m \u001b[39mclass\u001b[39;49;00m \u001b[39m_NestedSequence\u001b[39;49;00m(Protocol[_T_co]):\n\u001b[1;32m     20\u001b[0m \u001b[39m    \u001b[39;49m\u001b[39m\"\"\"A protocol for representing nested sequences.\u001b[39;49;00m\n\u001b[1;32m     21\u001b[0m \n\u001b[1;32m     22\u001b[0m \u001b[39m    Warning\u001b[39;49;00m\n\u001b[0;32m   (...)\u001b[0m\n\u001b[1;32m     57\u001b[0m \n\u001b[1;32m     58\u001b[0m \u001b[39m    \"\"\"\u001b[39;49;00m\n\u001b[1;32m     60\u001b[0m     \u001b[39mdef\u001b[39;49;00m \u001b[39m__len__\u001b[39;49m(\u001b[39mself\u001b[39;49m, \u001b[39m/\u001b[39;49m) \u001b[39m-\u001b[39;49m\u001b[39m>\u001b[39;49m \u001b[39mint\u001b[39;49m:\n",
      "File \u001b[0;32m/usr/lib/python3.10/typing.py:1731\u001b[0m, in \u001b[0;36mruntime_checkable\u001b[0;34m(cls)\u001b[0m\n\u001b[1;32m   1713\u001b[0m \u001b[39m\u001b[39m\u001b[39m\"\"\"Mark a protocol class as a runtime protocol.\u001b[39;00m\n\u001b[1;32m   1714\u001b[0m \n\u001b[1;32m   1715\u001b[0m \u001b[39mSuch protocol can be used with isinstance() and issubclass().\u001b[39;00m\n\u001b[0;32m   (...)\u001b[0m\n\u001b[1;32m   1728\u001b[0m \u001b[39mnot their type signatures!\u001b[39;00m\n\u001b[1;32m   1729\u001b[0m \u001b[39m\"\"\"\u001b[39;00m\n\u001b[1;32m   1730\u001b[0m \u001b[39mif\u001b[39;00m \u001b[39mnot\u001b[39;00m \u001b[39missubclass\u001b[39m(\u001b[39mcls\u001b[39m, Generic) \u001b[39mor\u001b[39;00m \u001b[39mnot\u001b[39;00m \u001b[39mcls\u001b[39m\u001b[39m.\u001b[39m_is_protocol:\n\u001b[0;32m-> 1731\u001b[0m     \u001b[39mraise\u001b[39;00m \u001b[39mTypeError\u001b[39;00m(\u001b[39m'\u001b[39m\u001b[39m@runtime_checkable can be only applied to protocol classes,\u001b[39m\u001b[39m'\u001b[39m\n\u001b[1;32m   1732\u001b[0m                     \u001b[39m'\u001b[39m\u001b[39m got \u001b[39m\u001b[39m%r\u001b[39;00m\u001b[39m'\u001b[39m \u001b[39m%\u001b[39m \u001b[39mcls\u001b[39m)\n\u001b[1;32m   1733\u001b[0m \u001b[39mcls\u001b[39m\u001b[39m.\u001b[39m_is_runtime_protocol \u001b[39m=\u001b[39m \u001b[39mTrue\u001b[39;00m\n\u001b[1;32m   1734\u001b[0m \u001b[39mreturn\u001b[39;00m \u001b[39mcls\u001b[39m\n",
      "\u001b[0;31mTypeError\u001b[0m: @runtime_checkable can be only applied to protocol classes, got <class 'zuper_json.zeneric2._NestedSequence'>"
     ]
    }
   ],
   "source": [
    "import sys\n",
    "\n",
    "sys.path.append(\"/home/vincent/duckietown-lx/modcon/notebooks/06-PID-Control-Exercise/tests\")\n",
    "\n",
    "from unit_test import UnitTestPositionPID\n",
    "\n",
    "from solution.pid_controller_homework import PIDController\n",
    "\n",
    "# Write here the values of the kinematics parameters you calculated during the activities.\n",
    "# This test will give you an idea of the behavior of the controller you wrote above.\n",
    "# Try to play with the parameters, change R, the baseline all the PID variables,\n",
    "# What change in the resulting graphs? Why?\n",
    "\n",
    "# Note: this sanity check is neither a prerequisite for completing the exercise nor an instrument for tuning your controller. \n",
    "\n",
    "R = 0.0318\n",
    "baseline = 0.099\n",
    "gain = 0.6\n",
    "trim = 0.0\n",
    "v_0 = 0.2\n",
    "y_ref = 0.7\n",
    "\n",
    "# unit test input R, baseline, v_0, gain, trim, PIDController\n",
    "unit_test = UnitTestPositionPID(R, baseline, v_0, y_ref, gain, trim, PIDController) \n",
    "unit_test.test()\n"
   ]
  },
  {
   "cell_type": "markdown",
   "metadata": {},
   "source": [
    "# PID tuning\n",
    "\n",
    "In order to tune the PID two approaches of increasing fedelity are possible:\n",
    "1. Kinematic model $\\dot{q}=Aq$: only simulating the kinematics of the Duckiebot\n",
    "2. Dynamics model $F=ma$: simulate the dynamics of the Duckiebot, with forces and inertia.\n",
    "\n",
    "### Tuning scenario\n",
    "You will tune the PID in a scenario similar to the one in the first AIDO challenge of this learning experience:\n",
    "\n",
    "- **Starting pose:** $x_0,y_0,\\theta_0=[0 m, 0.2 m, 0°]$\n",
    "- **Commanded velocity:** $v_0=0.22m/s$\n",
    "- **Goal**: getting to $y_{ref}=0.0m$\n",
    "\n",
    "This is equivalent to starting in the wrong lane and try following the centerline of the correct lane."
   ]
  },
  {
   "cell_type": "code",
   "execution_count": 8,
   "metadata": {},
   "outputs": [],
   "source": [
    "# Initial conditions of the duckiebot\n",
    "x0 = 0.0\n",
    "y0 = 0.2\n",
    "theta_0 = 0.0 # degrees\n",
    "\n",
    "initial_pose =  [x0,y0,theta_0]\n",
    "initial_vel =   [0.0, 0]\n",
    "\n",
    "# Goal:\n",
    "y_ref = .1"
   ]
  },
  {
   "cell_type": "markdown",
   "metadata": {},
   "source": [
    "# Kinematic model\n",
    "In this part of the notebook you will tune the PID on a kinematic model of the Duckiebot. This is the simplest model of the robot and it will be your first step to get an idea of the values."
   ]
  },
  {
   "cell_type": "code",
   "execution_count": 10,
   "metadata": {},
   "outputs": [
    {
     "ename": "TypeError",
     "evalue": "@runtime_checkable can be only applied to protocol classes, got <class 'zuper_json.zeneric2._NestedSequence'>",
     "output_type": "error",
     "traceback": [
      "\u001b[0;31m---------------------------------------------------------------------------\u001b[0m",
      "\u001b[0;31mTypeError\u001b[0m                                 Traceback (most recent call last)",
      "\u001b[1;32m/home/vincent/duckietown-lx/modcon/notebooks/06-PID-Control-Exercise/PID_controller_exercise.ipynb Cell 11\u001b[0m line \u001b[0;36m1\n\u001b[0;32m----> <a href='vscode-notebook-cell:/home/vincent/duckietown-lx/modcon/notebooks/06-PID-Control-Exercise/PID_controller_exercise.ipynb#X13sZmlsZQ%3D%3D?line=0'>1</a>\u001b[0m \u001b[39mimport\u001b[39;00m \u001b[39mmatplotlib\u001b[39;00m\u001b[39m.\u001b[39;00m\u001b[39mpyplot\u001b[39;00m \u001b[39mas\u001b[39;00m \u001b[39mplt\u001b[39;00m\n\u001b[1;32m      <a href='vscode-notebook-cell:/home/vincent/duckietown-lx/modcon/notebooks/06-PID-Control-Exercise/PID_controller_exercise.ipynb#X13sZmlsZQ%3D%3D?line=1'>2</a>\u001b[0m \u001b[39m#import load_gains, update_gains\u001b[39;00m\n\u001b[1;32m      <a href='vscode-notebook-cell:/home/vincent/duckietown-lx/modcon/notebooks/06-PID-Control-Exercise/PID_controller_exercise.ipynb#X13sZmlsZQ%3D%3D?line=3'>4</a>\u001b[0m \u001b[39mfrom\u001b[39;00m \u001b[39mwriter\u001b[39;00m \u001b[39mimport\u001b[39;00m load_gains, update_gains\n",
      "File \u001b[0;32m~/.local/lib/python3.10/site-packages/matplotlib/__init__.py:156\u001b[0m\n\u001b[1;32m    153\u001b[0m \u001b[39mimport\u001b[39;00m \u001b[39mtempfile\u001b[39;00m\n\u001b[1;32m    154\u001b[0m \u001b[39mimport\u001b[39;00m \u001b[39mwarnings\u001b[39;00m\n\u001b[0;32m--> 156\u001b[0m \u001b[39mimport\u001b[39;00m \u001b[39mnumpy\u001b[39;00m\n\u001b[1;32m    157\u001b[0m \u001b[39mfrom\u001b[39;00m \u001b[39mpackaging\u001b[39;00m\u001b[39m.\u001b[39;00m\u001b[39mversion\u001b[39;00m \u001b[39mimport\u001b[39;00m parse \u001b[39mas\u001b[39;00m parse_version\n\u001b[1;32m    159\u001b[0m \u001b[39m# cbook must import matplotlib only within function\u001b[39;00m\n\u001b[1;32m    160\u001b[0m \u001b[39m# definitions, so it is safe to import from it here.\u001b[39;00m\n",
      "File \u001b[0;32m~/.local/lib/python3.10/site-packages/numpy/__init__.py:149\u001b[0m\n\u001b[1;32m    147\u001b[0m \u001b[39mfrom\u001b[39;00m \u001b[39m.\u001b[39;00m \u001b[39mimport\u001b[39;00m exceptions\n\u001b[1;32m    148\u001b[0m \u001b[39mfrom\u001b[39;00m \u001b[39m.\u001b[39;00m \u001b[39mimport\u001b[39;00m dtypes\n\u001b[0;32m--> 149\u001b[0m \u001b[39mfrom\u001b[39;00m \u001b[39m.\u001b[39;00m \u001b[39mimport\u001b[39;00m lib\n\u001b[1;32m    150\u001b[0m \u001b[39m# NOTE: to be revisited following future namespace cleanup.\u001b[39;00m\n\u001b[1;32m    151\u001b[0m \u001b[39m# See gh-14454 and gh-15672 for discussion.\u001b[39;00m\n\u001b[1;32m    152\u001b[0m \u001b[39mfrom\u001b[39;00m \u001b[39m.\u001b[39;00m\u001b[39mlib\u001b[39;00m \u001b[39mimport\u001b[39;00m \u001b[39m*\u001b[39m\n",
      "File \u001b[0;32m~/.local/lib/python3.10/site-packages/numpy/lib/__init__.py:23\u001b[0m\n\u001b[1;32m     20\u001b[0m \u001b[39m# Private submodules\u001b[39;00m\n\u001b[1;32m     21\u001b[0m \u001b[39m# load module names. See https://github.com/networkx/networkx/issues/5838\u001b[39;00m\n\u001b[1;32m     22\u001b[0m \u001b[39mfrom\u001b[39;00m \u001b[39m.\u001b[39;00m \u001b[39mimport\u001b[39;00m type_check\n\u001b[0;32m---> 23\u001b[0m \u001b[39mfrom\u001b[39;00m \u001b[39m.\u001b[39;00m \u001b[39mimport\u001b[39;00m index_tricks\n\u001b[1;32m     24\u001b[0m \u001b[39mfrom\u001b[39;00m \u001b[39m.\u001b[39;00m \u001b[39mimport\u001b[39;00m function_base\n\u001b[1;32m     25\u001b[0m \u001b[39mfrom\u001b[39;00m \u001b[39m.\u001b[39;00m \u001b[39mimport\u001b[39;00m nanfunctions\n",
      "File \u001b[0;32m~/.local/lib/python3.10/site-packages/numpy/lib/index_tricks.py:12\u001b[0m\n\u001b[1;32m      9\u001b[0m \u001b[39mfrom\u001b[39;00m \u001b[39mnumpy\u001b[39;00m\u001b[39m.\u001b[39;00m\u001b[39mcore\u001b[39;00m\u001b[39m.\u001b[39;00m\u001b[39mnumeric\u001b[39;00m \u001b[39mimport\u001b[39;00m ScalarType, array\n\u001b[1;32m     10\u001b[0m \u001b[39mfrom\u001b[39;00m \u001b[39mnumpy\u001b[39;00m\u001b[39m.\u001b[39;00m\u001b[39mcore\u001b[39;00m\u001b[39m.\u001b[39;00m\u001b[39mnumerictypes\u001b[39;00m \u001b[39mimport\u001b[39;00m issubdtype\n\u001b[0;32m---> 12\u001b[0m \u001b[39mimport\u001b[39;00m \u001b[39mnumpy\u001b[39;00m\u001b[39m.\u001b[39;00m\u001b[39mmatrixlib\u001b[39;00m \u001b[39mas\u001b[39;00m \u001b[39mmatrixlib\u001b[39;00m\n\u001b[1;32m     13\u001b[0m \u001b[39mfrom\u001b[39;00m \u001b[39m.\u001b[39;00m\u001b[39mfunction_base\u001b[39;00m \u001b[39mimport\u001b[39;00m diff\n\u001b[1;32m     14\u001b[0m \u001b[39mfrom\u001b[39;00m \u001b[39mnumpy\u001b[39;00m\u001b[39m.\u001b[39;00m\u001b[39mcore\u001b[39;00m\u001b[39m.\u001b[39;00m\u001b[39mmultiarray\u001b[39;00m \u001b[39mimport\u001b[39;00m ravel_multi_index, unravel_index\n",
      "File \u001b[0;32m~/.local/lib/python3.10/site-packages/numpy/matrixlib/__init__.py:4\u001b[0m\n\u001b[1;32m      1\u001b[0m \u001b[39m\"\"\"Sub-package containing the matrix class and related functions.\u001b[39;00m\n\u001b[1;32m      2\u001b[0m \n\u001b[1;32m      3\u001b[0m \u001b[39m\"\"\"\u001b[39;00m\n\u001b[0;32m----> 4\u001b[0m \u001b[39mfrom\u001b[39;00m \u001b[39m.\u001b[39;00m \u001b[39mimport\u001b[39;00m defmatrix\n\u001b[1;32m      5\u001b[0m \u001b[39mfrom\u001b[39;00m \u001b[39m.\u001b[39;00m\u001b[39mdefmatrix\u001b[39;00m \u001b[39mimport\u001b[39;00m \u001b[39m*\u001b[39m\n\u001b[1;32m      7\u001b[0m __all__ \u001b[39m=\u001b[39m defmatrix\u001b[39m.\u001b[39m__all__\n",
      "File \u001b[0;32m~/.local/lib/python3.10/site-packages/numpy/matrixlib/defmatrix.py:12\u001b[0m\n\u001b[1;32m      9\u001b[0m \u001b[39mfrom\u001b[39;00m \u001b[39mnumpy\u001b[39;00m\u001b[39m.\u001b[39;00m\u001b[39mcore\u001b[39;00m\u001b[39m.\u001b[39;00m\u001b[39mnumeric\u001b[39;00m \u001b[39mimport\u001b[39;00m concatenate, isscalar\n\u001b[1;32m     10\u001b[0m \u001b[39m# While not in __all__, matrix_power used to be defined here, so we import\u001b[39;00m\n\u001b[1;32m     11\u001b[0m \u001b[39m# it for backward compatibility.\u001b[39;00m\n\u001b[0;32m---> 12\u001b[0m \u001b[39mfrom\u001b[39;00m \u001b[39mnumpy\u001b[39;00m\u001b[39m.\u001b[39;00m\u001b[39mlinalg\u001b[39;00m \u001b[39mimport\u001b[39;00m matrix_power\n\u001b[1;32m     15\u001b[0m \u001b[39mdef\u001b[39;00m \u001b[39m_convert_from_string\u001b[39m(data):\n\u001b[1;32m     16\u001b[0m     \u001b[39mfor\u001b[39;00m char \u001b[39min\u001b[39;00m \u001b[39m'\u001b[39m\u001b[39m[]\u001b[39m\u001b[39m'\u001b[39m:\n",
      "File \u001b[0;32m~/.local/lib/python3.10/site-packages/numpy/linalg/__init__.py:73\u001b[0m\n\u001b[1;32m      1\u001b[0m \u001b[39m\"\"\"\u001b[39;00m\n\u001b[1;32m      2\u001b[0m \u001b[39m``numpy.linalg``\u001b[39;00m\n\u001b[1;32m      3\u001b[0m \u001b[39m================\u001b[39;00m\n\u001b[0;32m   (...)\u001b[0m\n\u001b[1;32m     70\u001b[0m \n\u001b[1;32m     71\u001b[0m \u001b[39m\"\"\"\u001b[39;00m\n\u001b[1;32m     72\u001b[0m \u001b[39m# To get sub-modules\u001b[39;00m\n\u001b[0;32m---> 73\u001b[0m \u001b[39mfrom\u001b[39;00m \u001b[39m.\u001b[39;00m \u001b[39mimport\u001b[39;00m linalg\n\u001b[1;32m     74\u001b[0m \u001b[39mfrom\u001b[39;00m \u001b[39m.\u001b[39;00m\u001b[39mlinalg\u001b[39;00m \u001b[39mimport\u001b[39;00m \u001b[39m*\u001b[39m\n\u001b[1;32m     76\u001b[0m __all__ \u001b[39m=\u001b[39m linalg\u001b[39m.\u001b[39m__all__\u001b[39m.\u001b[39mcopy()\n",
      "File \u001b[0;32m~/.local/lib/python3.10/site-packages/numpy/linalg/linalg.py:37\u001b[0m\n\u001b[1;32m     34\u001b[0m \u001b[39mfrom\u001b[39;00m \u001b[39mnumpy\u001b[39;00m\u001b[39m.\u001b[39;00m\u001b[39mlib\u001b[39;00m\u001b[39m.\u001b[39;00m\u001b[39mtwodim_base\u001b[39;00m \u001b[39mimport\u001b[39;00m triu, eye\n\u001b[1;32m     35\u001b[0m \u001b[39mfrom\u001b[39;00m \u001b[39mnumpy\u001b[39;00m\u001b[39m.\u001b[39;00m\u001b[39mlinalg\u001b[39;00m \u001b[39mimport\u001b[39;00m _umath_linalg\n\u001b[0;32m---> 37\u001b[0m \u001b[39mfrom\u001b[39;00m \u001b[39mnumpy\u001b[39;00m\u001b[39m.\u001b[39;00m\u001b[39m_typing\u001b[39;00m \u001b[39mimport\u001b[39;00m NDArray\n\u001b[1;32m     39\u001b[0m \u001b[39mclass\u001b[39;00m \u001b[39mEigResult\u001b[39;00m(NamedTuple):\n\u001b[1;32m     40\u001b[0m     eigenvalues: NDArray[Any]\n",
      "File \u001b[0;32m~/.local/lib/python3.10/site-packages/numpy/_typing/__init__.py:92\u001b[0m\n\u001b[1;32m     88\u001b[0m \u001b[39mclass\u001b[39;00m \u001b[39m_8Bit\u001b[39;00m(_16Bit):  \u001b[39m# type: ignore[misc]\u001b[39;00m\n\u001b[1;32m     89\u001b[0m     \u001b[39mpass\u001b[39;00m\n\u001b[0;32m---> 92\u001b[0m \u001b[39mfrom\u001b[39;00m \u001b[39m.\u001b[39;00m\u001b[39m_nested_sequence\u001b[39;00m \u001b[39mimport\u001b[39;00m (\n\u001b[1;32m     93\u001b[0m     _NestedSequence \u001b[39mas\u001b[39;00m _NestedSequence,\n\u001b[1;32m     94\u001b[0m )\n\u001b[1;32m     95\u001b[0m \u001b[39mfrom\u001b[39;00m \u001b[39m.\u001b[39;00m\u001b[39m_nbit\u001b[39;00m \u001b[39mimport\u001b[39;00m (\n\u001b[1;32m     96\u001b[0m     _NBitByte \u001b[39mas\u001b[39;00m _NBitByte,\n\u001b[1;32m     97\u001b[0m     _NBitShort \u001b[39mas\u001b[39;00m _NBitShort,\n\u001b[0;32m   (...)\u001b[0m\n\u001b[1;32m    105\u001b[0m     _NBitLongDouble \u001b[39mas\u001b[39;00m _NBitLongDouble,\n\u001b[1;32m    106\u001b[0m )\n\u001b[1;32m    107\u001b[0m \u001b[39mfrom\u001b[39;00m \u001b[39m.\u001b[39;00m\u001b[39m_char_codes\u001b[39;00m \u001b[39mimport\u001b[39;00m (\n\u001b[1;32m    108\u001b[0m     _BoolCodes \u001b[39mas\u001b[39;00m _BoolCodes,\n\u001b[1;32m    109\u001b[0m     _UInt8Codes \u001b[39mas\u001b[39;00m _UInt8Codes,\n\u001b[0;32m   (...)\u001b[0m\n\u001b[1;32m    146\u001b[0m     _ObjectCodes \u001b[39mas\u001b[39;00m _ObjectCodes,\n\u001b[1;32m    147\u001b[0m )\n",
      "File \u001b[0;32m~/.local/lib/python3.10/site-packages/numpy/_typing/_nested_sequence.py:19\u001b[0m\n\u001b[1;32m     13\u001b[0m __all__ \u001b[39m=\u001b[39m [\u001b[39m\"\u001b[39m\u001b[39m_NestedSequence\u001b[39m\u001b[39m\"\u001b[39m]\n\u001b[1;32m     15\u001b[0m _T_co \u001b[39m=\u001b[39m TypeVar(\u001b[39m\"\u001b[39m\u001b[39m_T_co\u001b[39m\u001b[39m\"\u001b[39m, covariant\u001b[39m=\u001b[39m\u001b[39mTrue\u001b[39;00m)\n\u001b[1;32m     18\u001b[0m \u001b[39m@runtime_checkable\u001b[39;49m\n\u001b[0;32m---> 19\u001b[0m \u001b[39mclass\u001b[39;49;00m \u001b[39m_NestedSequence\u001b[39;49;00m(Protocol[_T_co]):\n\u001b[1;32m     20\u001b[0m \u001b[39m    \u001b[39;49m\u001b[39m\"\"\"A protocol for representing nested sequences.\u001b[39;49;00m\n\u001b[1;32m     21\u001b[0m \n\u001b[1;32m     22\u001b[0m \u001b[39m    Warning\u001b[39;49;00m\n\u001b[0;32m   (...)\u001b[0m\n\u001b[1;32m     57\u001b[0m \n\u001b[1;32m     58\u001b[0m \u001b[39m    \"\"\"\u001b[39;49;00m\n\u001b[1;32m     60\u001b[0m     \u001b[39mdef\u001b[39;49;00m \u001b[39m__len__\u001b[39;49m(\u001b[39mself\u001b[39;49m, \u001b[39m/\u001b[39;49m) \u001b[39m-\u001b[39;49m\u001b[39m>\u001b[39;49m \u001b[39mint\u001b[39;49m:\n",
      "File \u001b[0;32m/usr/lib/python3.10/typing.py:1731\u001b[0m, in \u001b[0;36mruntime_checkable\u001b[0;34m(cls)\u001b[0m\n\u001b[1;32m   1713\u001b[0m \u001b[39m\u001b[39m\u001b[39m\"\"\"Mark a protocol class as a runtime protocol.\u001b[39;00m\n\u001b[1;32m   1714\u001b[0m \n\u001b[1;32m   1715\u001b[0m \u001b[39mSuch protocol can be used with isinstance() and issubclass().\u001b[39;00m\n\u001b[0;32m   (...)\u001b[0m\n\u001b[1;32m   1728\u001b[0m \u001b[39mnot their type signatures!\u001b[39;00m\n\u001b[1;32m   1729\u001b[0m \u001b[39m\"\"\"\u001b[39;00m\n\u001b[1;32m   1730\u001b[0m \u001b[39mif\u001b[39;00m \u001b[39mnot\u001b[39;00m \u001b[39missubclass\u001b[39m(\u001b[39mcls\u001b[39m, Generic) \u001b[39mor\u001b[39;00m \u001b[39mnot\u001b[39;00m \u001b[39mcls\u001b[39m\u001b[39m.\u001b[39m_is_protocol:\n\u001b[0;32m-> 1731\u001b[0m     \u001b[39mraise\u001b[39;00m \u001b[39mTypeError\u001b[39;00m(\u001b[39m'\u001b[39m\u001b[39m@runtime_checkable can be only applied to protocol classes,\u001b[39m\u001b[39m'\u001b[39m\n\u001b[1;32m   1732\u001b[0m                     \u001b[39m'\u001b[39m\u001b[39m got \u001b[39m\u001b[39m%r\u001b[39;00m\u001b[39m'\u001b[39m \u001b[39m%\u001b[39m \u001b[39mcls\u001b[39m)\n\u001b[1;32m   1733\u001b[0m \u001b[39mcls\u001b[39m\u001b[39m.\u001b[39m_is_runtime_protocol \u001b[39m=\u001b[39m \u001b[39mTrue\u001b[39;00m\n\u001b[1;32m   1734\u001b[0m \u001b[39mreturn\u001b[39;00m \u001b[39mcls\u001b[39m\n",
      "\u001b[0;31mTypeError\u001b[0m: @runtime_checkable can be only applied to protocol classes, got <class 'zuper_json.zeneric2._NestedSequence'>"
     ]
    }
   ],
   "source": [
    "import matplotlib.pyplot as plt\n",
    "#import load_gains, update_gains\n",
    "\n",
    "from writer import load_gains, update_gains\n",
    "\n",
    "def plot_xy_from_lists(xs,ys,y_ref):\n",
    "    # Plot (x,y) position\n",
    "    ax = plt.subplot(313)\n",
    "    plt.grid('on')\n",
    "    plt.plot(xs, ys)\n",
    "\n",
    "    plt.axhline(y = y_ref, color = 'r', linestyle = '--')\n",
    "\n",
    "    plt.xlabel('x', fontsize=12)\n",
    "    plt.ylabel('y', fontsize=12)\n",
    "\n",
    "    # Set grass background\n",
    "    ax.set_facecolor('g')\n",
    "\n",
    "    top_line=0.2\n",
    "    bottom_line=-0.2\n",
    "\n",
    "    # Draw road\n",
    "    ax.axhspan(ymin=bottom_line,ymax=top_line,facecolor='k')\n",
    "    plt.axhline(y=top_line,linestyle='-',color='w') # white\n",
    "    plt.axhline(y=bottom_line,linestyle='-',color='w')\n",
    "    plt.axhline(y=0.0,linestyle='--',color='#fefe03')\n",
    "\n",
    "    ax.set_ylim(bottom=-0.3,top=0.3)\n",
    "\n",
    "    plt.show()\n"
   ]
  },
  {
   "cell_type": "code",
   "execution_count": 4,
   "metadata": {},
   "outputs": [
    {
     "ename": "TypeError",
     "evalue": "@runtime_checkable can be only applied to protocol classes, got <class 'zuper_json.zeneric2._NestedSequence'>",
     "output_type": "error",
     "traceback": [
      "\u001b[0;31m---------------------------------------------------------------------------\u001b[0m",
      "\u001b[0;31mTypeError\u001b[0m                                 Traceback (most recent call last)",
      "\u001b[1;32m/home/vincent/duckietown-lx/modcon/notebooks/06-PID-Control-Exercise/PID_controller_exercise.ipynb Cell 12\u001b[0m line \u001b[0;36m5\n\u001b[1;32m      <a href='vscode-notebook-cell:/home/vincent/duckietown-lx/modcon/notebooks/06-PID-Control-Exercise/PID_controller_exercise.ipynb#X14sZmlsZQ%3D%3D?line=0'>1</a>\u001b[0m \u001b[39mimport\u001b[39;00m \u001b[39msys\u001b[39;00m\n\u001b[1;32m      <a href='vscode-notebook-cell:/home/vincent/duckietown-lx/modcon/notebooks/06-PID-Control-Exercise/PID_controller_exercise.ipynb#X14sZmlsZQ%3D%3D?line=2'>3</a>\u001b[0m sys\u001b[39m.\u001b[39mpath\u001b[39m.\u001b[39mappend(\u001b[39m'\u001b[39m\u001b[39m/home/vincent/.dt-shell/recipes/duckietown/duckietown-lx-recipes/mooc2022/modcon/packages/simulators\u001b[39m\u001b[39m'\u001b[39m)\n\u001b[0;32m----> <a href='vscode-notebook-cell:/home/vincent/duckietown-lx/modcon/notebooks/06-PID-Control-Exercise/PID_controller_exercise.ipynb#X14sZmlsZQ%3D%3D?line=4'>5</a>\u001b[0m \u001b[39mfrom\u001b[39;00m \u001b[39mkinematics_sim\u001b[39;00m \u001b[39mimport\u001b[39;00m integrate_kinematics\n\u001b[1;32m      <a href='vscode-notebook-cell:/home/vincent/duckietown-lx/modcon/notebooks/06-PID-Control-Exercise/PID_controller_exercise.ipynb#X14sZmlsZQ%3D%3D?line=5'>6</a>\u001b[0m \u001b[39mfrom\u001b[39;00m \u001b[39msolution\u001b[39;00m\u001b[39m.\u001b[39;00m\u001b[39mpid_controller_homework\u001b[39;00m \u001b[39mimport\u001b[39;00m PIDController\n\u001b[1;32m      <a href='vscode-notebook-cell:/home/vincent/duckietown-lx/modcon/notebooks/06-PID-Control-Exercise/PID_controller_exercise.ipynb#X14sZmlsZQ%3D%3D?line=7'>8</a>\u001b[0m \u001b[39mdef\u001b[39;00m \u001b[39mcompute_response\u001b[39m(initial_pose, initial_vel \u001b[39m=\u001b[39m [\u001b[39m0\u001b[39m,\u001b[39m0\u001b[39m], y_ref\u001b[39m=\u001b[39m\u001b[39m0\u001b[39m,dynamics\u001b[39m=\u001b[39mintegrate_kinematics):\n",
      "File \u001b[0;32m~/.dt-shell/recipes/duckietown/duckietown-lx-recipes/mooc2022/modcon/packages/simulators/kinematics_sim.py:1\u001b[0m\n\u001b[0;32m----> 1\u001b[0m \u001b[39mimport\u001b[39;00m \u001b[39mnumpy\u001b[39;00m \u001b[39mas\u001b[39;00m \u001b[39mnp\u001b[39;00m\n\u001b[1;32m      3\u001b[0m \u001b[39mdef\u001b[39;00m \u001b[39mget_next_pose\u001b[39m(icc_pos, d, cur_theta, theta_displacement):\n\u001b[1;32m      4\u001b[0m \u001b[39m    \u001b[39m\u001b[39m\"\"\"\u001b[39;00m\n\u001b[1;32m      5\u001b[0m \u001b[39m    Compute the new next position in global frame\u001b[39;00m\n\u001b[1;32m      6\u001b[0m \u001b[39m    Input:\u001b[39;00m\n\u001b[0;32m   (...)\u001b[0m\n\u001b[1;32m     13\u001b[0m \u001b[39m        - next_orientation:\u001b[39;00m\n\u001b[1;32m     14\u001b[0m \u001b[39m    \"\"\"\u001b[39;00m\n",
      "File \u001b[0;32m~/.local/lib/python3.10/site-packages/numpy/__init__.py:149\u001b[0m\n\u001b[1;32m    147\u001b[0m \u001b[39mfrom\u001b[39;00m \u001b[39m.\u001b[39;00m \u001b[39mimport\u001b[39;00m exceptions\n\u001b[1;32m    148\u001b[0m \u001b[39mfrom\u001b[39;00m \u001b[39m.\u001b[39;00m \u001b[39mimport\u001b[39;00m dtypes\n\u001b[0;32m--> 149\u001b[0m \u001b[39mfrom\u001b[39;00m \u001b[39m.\u001b[39;00m \u001b[39mimport\u001b[39;00m lib\n\u001b[1;32m    150\u001b[0m \u001b[39m# NOTE: to be revisited following future namespace cleanup.\u001b[39;00m\n\u001b[1;32m    151\u001b[0m \u001b[39m# See gh-14454 and gh-15672 for discussion.\u001b[39;00m\n\u001b[1;32m    152\u001b[0m \u001b[39mfrom\u001b[39;00m \u001b[39m.\u001b[39;00m\u001b[39mlib\u001b[39;00m \u001b[39mimport\u001b[39;00m \u001b[39m*\u001b[39m\n",
      "File \u001b[0;32m~/.local/lib/python3.10/site-packages/numpy/lib/__init__.py:23\u001b[0m\n\u001b[1;32m     20\u001b[0m \u001b[39m# Private submodules\u001b[39;00m\n\u001b[1;32m     21\u001b[0m \u001b[39m# load module names. See https://github.com/networkx/networkx/issues/5838\u001b[39;00m\n\u001b[1;32m     22\u001b[0m \u001b[39mfrom\u001b[39;00m \u001b[39m.\u001b[39;00m \u001b[39mimport\u001b[39;00m type_check\n\u001b[0;32m---> 23\u001b[0m \u001b[39mfrom\u001b[39;00m \u001b[39m.\u001b[39;00m \u001b[39mimport\u001b[39;00m index_tricks\n\u001b[1;32m     24\u001b[0m \u001b[39mfrom\u001b[39;00m \u001b[39m.\u001b[39;00m \u001b[39mimport\u001b[39;00m function_base\n\u001b[1;32m     25\u001b[0m \u001b[39mfrom\u001b[39;00m \u001b[39m.\u001b[39;00m \u001b[39mimport\u001b[39;00m nanfunctions\n",
      "File \u001b[0;32m~/.local/lib/python3.10/site-packages/numpy/lib/index_tricks.py:12\u001b[0m\n\u001b[1;32m      9\u001b[0m \u001b[39mfrom\u001b[39;00m \u001b[39mnumpy\u001b[39;00m\u001b[39m.\u001b[39;00m\u001b[39mcore\u001b[39;00m\u001b[39m.\u001b[39;00m\u001b[39mnumeric\u001b[39;00m \u001b[39mimport\u001b[39;00m ScalarType, array\n\u001b[1;32m     10\u001b[0m \u001b[39mfrom\u001b[39;00m \u001b[39mnumpy\u001b[39;00m\u001b[39m.\u001b[39;00m\u001b[39mcore\u001b[39;00m\u001b[39m.\u001b[39;00m\u001b[39mnumerictypes\u001b[39;00m \u001b[39mimport\u001b[39;00m issubdtype\n\u001b[0;32m---> 12\u001b[0m \u001b[39mimport\u001b[39;00m \u001b[39mnumpy\u001b[39;00m\u001b[39m.\u001b[39;00m\u001b[39mmatrixlib\u001b[39;00m \u001b[39mas\u001b[39;00m \u001b[39mmatrixlib\u001b[39;00m\n\u001b[1;32m     13\u001b[0m \u001b[39mfrom\u001b[39;00m \u001b[39m.\u001b[39;00m\u001b[39mfunction_base\u001b[39;00m \u001b[39mimport\u001b[39;00m diff\n\u001b[1;32m     14\u001b[0m \u001b[39mfrom\u001b[39;00m \u001b[39mnumpy\u001b[39;00m\u001b[39m.\u001b[39;00m\u001b[39mcore\u001b[39;00m\u001b[39m.\u001b[39;00m\u001b[39mmultiarray\u001b[39;00m \u001b[39mimport\u001b[39;00m ravel_multi_index, unravel_index\n",
      "File \u001b[0;32m~/.local/lib/python3.10/site-packages/numpy/matrixlib/__init__.py:4\u001b[0m\n\u001b[1;32m      1\u001b[0m \u001b[39m\"\"\"Sub-package containing the matrix class and related functions.\u001b[39;00m\n\u001b[1;32m      2\u001b[0m \n\u001b[1;32m      3\u001b[0m \u001b[39m\"\"\"\u001b[39;00m\n\u001b[0;32m----> 4\u001b[0m \u001b[39mfrom\u001b[39;00m \u001b[39m.\u001b[39;00m \u001b[39mimport\u001b[39;00m defmatrix\n\u001b[1;32m      5\u001b[0m \u001b[39mfrom\u001b[39;00m \u001b[39m.\u001b[39;00m\u001b[39mdefmatrix\u001b[39;00m \u001b[39mimport\u001b[39;00m \u001b[39m*\u001b[39m\n\u001b[1;32m      7\u001b[0m __all__ \u001b[39m=\u001b[39m defmatrix\u001b[39m.\u001b[39m__all__\n",
      "File \u001b[0;32m~/.local/lib/python3.10/site-packages/numpy/matrixlib/defmatrix.py:12\u001b[0m\n\u001b[1;32m      9\u001b[0m \u001b[39mfrom\u001b[39;00m \u001b[39mnumpy\u001b[39;00m\u001b[39m.\u001b[39;00m\u001b[39mcore\u001b[39;00m\u001b[39m.\u001b[39;00m\u001b[39mnumeric\u001b[39;00m \u001b[39mimport\u001b[39;00m concatenate, isscalar\n\u001b[1;32m     10\u001b[0m \u001b[39m# While not in __all__, matrix_power used to be defined here, so we import\u001b[39;00m\n\u001b[1;32m     11\u001b[0m \u001b[39m# it for backward compatibility.\u001b[39;00m\n\u001b[0;32m---> 12\u001b[0m \u001b[39mfrom\u001b[39;00m \u001b[39mnumpy\u001b[39;00m\u001b[39m.\u001b[39;00m\u001b[39mlinalg\u001b[39;00m \u001b[39mimport\u001b[39;00m matrix_power\n\u001b[1;32m     15\u001b[0m \u001b[39mdef\u001b[39;00m \u001b[39m_convert_from_string\u001b[39m(data):\n\u001b[1;32m     16\u001b[0m     \u001b[39mfor\u001b[39;00m char \u001b[39min\u001b[39;00m \u001b[39m'\u001b[39m\u001b[39m[]\u001b[39m\u001b[39m'\u001b[39m:\n",
      "File \u001b[0;32m~/.local/lib/python3.10/site-packages/numpy/linalg/__init__.py:73\u001b[0m\n\u001b[1;32m      1\u001b[0m \u001b[39m\"\"\"\u001b[39;00m\n\u001b[1;32m      2\u001b[0m \u001b[39m``numpy.linalg``\u001b[39;00m\n\u001b[1;32m      3\u001b[0m \u001b[39m================\u001b[39;00m\n\u001b[0;32m   (...)\u001b[0m\n\u001b[1;32m     70\u001b[0m \n\u001b[1;32m     71\u001b[0m \u001b[39m\"\"\"\u001b[39;00m\n\u001b[1;32m     72\u001b[0m \u001b[39m# To get sub-modules\u001b[39;00m\n\u001b[0;32m---> 73\u001b[0m \u001b[39mfrom\u001b[39;00m \u001b[39m.\u001b[39;00m \u001b[39mimport\u001b[39;00m linalg\n\u001b[1;32m     74\u001b[0m \u001b[39mfrom\u001b[39;00m \u001b[39m.\u001b[39;00m\u001b[39mlinalg\u001b[39;00m \u001b[39mimport\u001b[39;00m \u001b[39m*\u001b[39m\n\u001b[1;32m     76\u001b[0m __all__ \u001b[39m=\u001b[39m linalg\u001b[39m.\u001b[39m__all__\u001b[39m.\u001b[39mcopy()\n",
      "File \u001b[0;32m~/.local/lib/python3.10/site-packages/numpy/linalg/linalg.py:37\u001b[0m\n\u001b[1;32m     34\u001b[0m \u001b[39mfrom\u001b[39;00m \u001b[39mnumpy\u001b[39;00m\u001b[39m.\u001b[39;00m\u001b[39mlib\u001b[39;00m\u001b[39m.\u001b[39;00m\u001b[39mtwodim_base\u001b[39;00m \u001b[39mimport\u001b[39;00m triu, eye\n\u001b[1;32m     35\u001b[0m \u001b[39mfrom\u001b[39;00m \u001b[39mnumpy\u001b[39;00m\u001b[39m.\u001b[39;00m\u001b[39mlinalg\u001b[39;00m \u001b[39mimport\u001b[39;00m _umath_linalg\n\u001b[0;32m---> 37\u001b[0m \u001b[39mfrom\u001b[39;00m \u001b[39mnumpy\u001b[39;00m\u001b[39m.\u001b[39;00m\u001b[39m_typing\u001b[39;00m \u001b[39mimport\u001b[39;00m NDArray\n\u001b[1;32m     39\u001b[0m \u001b[39mclass\u001b[39;00m \u001b[39mEigResult\u001b[39;00m(NamedTuple):\n\u001b[1;32m     40\u001b[0m     eigenvalues: NDArray[Any]\n",
      "File \u001b[0;32m~/.local/lib/python3.10/site-packages/numpy/_typing/__init__.py:92\u001b[0m\n\u001b[1;32m     88\u001b[0m \u001b[39mclass\u001b[39;00m \u001b[39m_8Bit\u001b[39;00m(_16Bit):  \u001b[39m# type: ignore[misc]\u001b[39;00m\n\u001b[1;32m     89\u001b[0m     \u001b[39mpass\u001b[39;00m\n\u001b[0;32m---> 92\u001b[0m \u001b[39mfrom\u001b[39;00m \u001b[39m.\u001b[39;00m\u001b[39m_nested_sequence\u001b[39;00m \u001b[39mimport\u001b[39;00m (\n\u001b[1;32m     93\u001b[0m     _NestedSequence \u001b[39mas\u001b[39;00m _NestedSequence,\n\u001b[1;32m     94\u001b[0m )\n\u001b[1;32m     95\u001b[0m \u001b[39mfrom\u001b[39;00m \u001b[39m.\u001b[39;00m\u001b[39m_nbit\u001b[39;00m \u001b[39mimport\u001b[39;00m (\n\u001b[1;32m     96\u001b[0m     _NBitByte \u001b[39mas\u001b[39;00m _NBitByte,\n\u001b[1;32m     97\u001b[0m     _NBitShort \u001b[39mas\u001b[39;00m _NBitShort,\n\u001b[0;32m   (...)\u001b[0m\n\u001b[1;32m    105\u001b[0m     _NBitLongDouble \u001b[39mas\u001b[39;00m _NBitLongDouble,\n\u001b[1;32m    106\u001b[0m )\n\u001b[1;32m    107\u001b[0m \u001b[39mfrom\u001b[39;00m \u001b[39m.\u001b[39;00m\u001b[39m_char_codes\u001b[39;00m \u001b[39mimport\u001b[39;00m (\n\u001b[1;32m    108\u001b[0m     _BoolCodes \u001b[39mas\u001b[39;00m _BoolCodes,\n\u001b[1;32m    109\u001b[0m     _UInt8Codes \u001b[39mas\u001b[39;00m _UInt8Codes,\n\u001b[0;32m   (...)\u001b[0m\n\u001b[1;32m    146\u001b[0m     _ObjectCodes \u001b[39mas\u001b[39;00m _ObjectCodes,\n\u001b[1;32m    147\u001b[0m )\n",
      "File \u001b[0;32m~/.local/lib/python3.10/site-packages/numpy/_typing/_nested_sequence.py:19\u001b[0m\n\u001b[1;32m     13\u001b[0m __all__ \u001b[39m=\u001b[39m [\u001b[39m\"\u001b[39m\u001b[39m_NestedSequence\u001b[39m\u001b[39m\"\u001b[39m]\n\u001b[1;32m     15\u001b[0m _T_co \u001b[39m=\u001b[39m TypeVar(\u001b[39m\"\u001b[39m\u001b[39m_T_co\u001b[39m\u001b[39m\"\u001b[39m, covariant\u001b[39m=\u001b[39m\u001b[39mTrue\u001b[39;00m)\n\u001b[1;32m     18\u001b[0m \u001b[39m@runtime_checkable\u001b[39;49m\n\u001b[0;32m---> 19\u001b[0m \u001b[39mclass\u001b[39;49;00m \u001b[39m_NestedSequence\u001b[39;49;00m(Protocol[_T_co]):\n\u001b[1;32m     20\u001b[0m \u001b[39m    \u001b[39;49m\u001b[39m\"\"\"A protocol for representing nested sequences.\u001b[39;49;00m\n\u001b[1;32m     21\u001b[0m \n\u001b[1;32m     22\u001b[0m \u001b[39m    Warning\u001b[39;49;00m\n\u001b[0;32m   (...)\u001b[0m\n\u001b[1;32m     57\u001b[0m \n\u001b[1;32m     58\u001b[0m \u001b[39m    \"\"\"\u001b[39;49;00m\n\u001b[1;32m     60\u001b[0m     \u001b[39mdef\u001b[39;49;00m \u001b[39m__len__\u001b[39;49m(\u001b[39mself\u001b[39;49m, \u001b[39m/\u001b[39;49m) \u001b[39m-\u001b[39;49m\u001b[39m>\u001b[39;49m \u001b[39mint\u001b[39;49m:\n",
      "File \u001b[0;32m/usr/lib/python3.10/typing.py:1731\u001b[0m, in \u001b[0;36mruntime_checkable\u001b[0;34m(cls)\u001b[0m\n\u001b[1;32m   1713\u001b[0m \u001b[39m\u001b[39m\u001b[39m\"\"\"Mark a protocol class as a runtime protocol.\u001b[39;00m\n\u001b[1;32m   1714\u001b[0m \n\u001b[1;32m   1715\u001b[0m \u001b[39mSuch protocol can be used with isinstance() and issubclass().\u001b[39;00m\n\u001b[0;32m   (...)\u001b[0m\n\u001b[1;32m   1728\u001b[0m \u001b[39mnot their type signatures!\u001b[39;00m\n\u001b[1;32m   1729\u001b[0m \u001b[39m\"\"\"\u001b[39;00m\n\u001b[1;32m   1730\u001b[0m \u001b[39mif\u001b[39;00m \u001b[39mnot\u001b[39;00m \u001b[39missubclass\u001b[39m(\u001b[39mcls\u001b[39m, Generic) \u001b[39mor\u001b[39;00m \u001b[39mnot\u001b[39;00m \u001b[39mcls\u001b[39m\u001b[39m.\u001b[39m_is_protocol:\n\u001b[0;32m-> 1731\u001b[0m     \u001b[39mraise\u001b[39;00m \u001b[39mTypeError\u001b[39;00m(\u001b[39m'\u001b[39m\u001b[39m@runtime_checkable can be only applied to protocol classes,\u001b[39m\u001b[39m'\u001b[39m\n\u001b[1;32m   1732\u001b[0m                     \u001b[39m'\u001b[39m\u001b[39m got \u001b[39m\u001b[39m%r\u001b[39;00m\u001b[39m'\u001b[39m \u001b[39m%\u001b[39m \u001b[39mcls\u001b[39m)\n\u001b[1;32m   1733\u001b[0m \u001b[39mcls\u001b[39m\u001b[39m.\u001b[39m_is_runtime_protocol \u001b[39m=\u001b[39m \u001b[39mTrue\u001b[39;00m\n\u001b[1;32m   1734\u001b[0m \u001b[39mreturn\u001b[39;00m \u001b[39mcls\u001b[39m\n",
      "\u001b[0;31mTypeError\u001b[0m: @runtime_checkable can be only applied to protocol classes, got <class 'zuper_json.zeneric2._NestedSequence'>"
     ]
    }
   ],
   "source": [
    "import sys\n",
    "\n",
    "sys.path.append('/home/vincent/.dt-shell/recipes/duckietown/duckietown-lx-recipes/mooc2022/modcon/packages/simulators')\n",
    "\n",
    "from kinematics_sim import integrate_kinematics\n",
    "from solution.pid_controller_homework import PIDController\n",
    "\n",
    "def compute_response(initial_pose, initial_vel = [0,0], y_ref=0,dynamics=integrate_kinematics):\n",
    "    \n",
    "    xs, ys, omegas, e_list, angles = dynamics(\n",
    "        initial_pose,initial_vel,y_ref,controller=PIDController,\n",
    "        )\n",
    "        \n",
    "    plot_xy_from_lists(xs,ys,y_ref)\n",
    "\n",
    "def tune_gains(kp,kd,ki):\n",
    "        # write values from sliders to file GAINS.yaml\n",
    "        update_gains(kp,kd,ki)\n",
    "\n",
    "        # simulate the controller\n",
    "        compute_response(initial_pose,y_ref=y_ref,dynamics=integrate_kinematics)\n",
    "\n",
    "from ipywidgets import interact\n",
    "\n",
    "interact(tune_gains, kp=5.0,kd=5.0,ki=1.0)"
   ]
  },
  {
   "cell_type": "markdown",
   "metadata": {},
   "source": [
    "# PID Tuning - Dynamic model\n",
    "For convenience you can simulate here the dynamic behavior of the robot on the x-y plane without having to run the full simulator. This allows you to tweak the gains of the PID and quickly see the effect on the response of the system.\n",
    "\n",
    "Let's plot the position of the duckiebot on the $xy$ plane:"
   ]
  },
  {
   "cell_type": "code",
   "execution_count": 2,
   "metadata": {},
   "outputs": [
    {
     "name": "stderr",
     "output_type": "stream",
     "text": [
      "INFO:dt-world:duckietown-world 1.0.30\n"
     ]
    },
    {
     "ename": "TypeError",
     "evalue": "@runtime_checkable can be only applied to protocol classes, got <class 'zuper_json.zeneric2._NestedSequence'>",
     "output_type": "error",
     "traceback": [
      "\u001b[0;31m---------------------------------------------------------------------------\u001b[0m",
      "\u001b[0;31mTypeError\u001b[0m                                 Traceback (most recent call last)",
      "\u001b[1;32m/home/vincent/duckietown-lx/modcon/notebooks/06-PID-Control-Exercise/PID_controller_exercise.ipynb Cell 14\u001b[0m line \u001b[0;36m5\n\u001b[1;32m      <a href='vscode-notebook-cell:/home/vincent/duckietown-lx/modcon/notebooks/06-PID-Control-Exercise/PID_controller_exercise.ipynb#X16sZmlsZQ%3D%3D?line=0'>1</a>\u001b[0m \u001b[39mimport\u001b[39;00m \u001b[39msys\u001b[39;00m\n\u001b[1;32m      <a href='vscode-notebook-cell:/home/vincent/duckietown-lx/modcon/notebooks/06-PID-Control-Exercise/PID_controller_exercise.ipynb#X16sZmlsZQ%3D%3D?line=2'>3</a>\u001b[0m sys\u001b[39m.\u001b[39mpath\u001b[39m.\u001b[39mappend(\u001b[39m'\u001b[39m\u001b[39m/home/vincent/.dt-shell/recipes/duckietown/duckietown-lx-recipes/mooc2022/modcon/packages/simulators\u001b[39m\u001b[39m'\u001b[39m)\n\u001b[0;32m----> <a href='vscode-notebook-cell:/home/vincent/duckietown-lx/modcon/notebooks/06-PID-Control-Exercise/PID_controller_exercise.ipynb#X16sZmlsZQ%3D%3D?line=4'>5</a>\u001b[0m \u001b[39mfrom\u001b[39;00m \u001b[39mdynamics_sim\u001b[39;00m \u001b[39mimport\u001b[39;00m integrate_dynamics\n\u001b[1;32m      <a href='vscode-notebook-cell:/home/vincent/duckietown-lx/modcon/notebooks/06-PID-Control-Exercise/PID_controller_exercise.ipynb#X16sZmlsZQ%3D%3D?line=6'>7</a>\u001b[0m \u001b[39m#from simulators import integrate_dynamics\u001b[39;00m\n\u001b[1;32m      <a href='vscode-notebook-cell:/home/vincent/duckietown-lx/modcon/notebooks/06-PID-Control-Exercise/PID_controller_exercise.ipynb#X16sZmlsZQ%3D%3D?line=7'>8</a>\u001b[0m \u001b[39mfrom\u001b[39;00m \u001b[39msolution\u001b[39;00m\u001b[39m.\u001b[39;00m\u001b[39mpid_controller_homework\u001b[39;00m \u001b[39mimport\u001b[39;00m PIDController\n",
      "File \u001b[0;32m~/.dt-shell/recipes/duckietown/duckietown-lx-recipes/mooc2022/modcon/packages/simulators/dynamics_sim.py:1\u001b[0m\n\u001b[0;32m----> 1\u001b[0m \u001b[39mfrom\u001b[39;00m \u001b[39mduckietown_world\u001b[39;00m \u001b[39mimport\u001b[39;00m (\n\u001b[1;32m      2\u001b[0m     get_DB18_nominal,\n\u001b[1;32m      3\u001b[0m     PlatformDynamics,\n\u001b[1;32m      4\u001b[0m     PWMCommands,\n\u001b[1;32m      5\u001b[0m     SampledSequenceBuilder,\n\u001b[1;32m      6\u001b[0m     SE2Transform,\n\u001b[1;32m      7\u001b[0m     DynamicModel,\n\u001b[1;32m      8\u001b[0m )\n\u001b[1;32m     10\u001b[0m \u001b[39mimport\u001b[39;00m \u001b[39mnumpy\u001b[39;00m \u001b[39mas\u001b[39;00m \u001b[39mnp\u001b[39;00m\n\u001b[1;32m     11\u001b[0m \u001b[39mimport\u001b[39;00m \u001b[39mgeometry\u001b[39;00m \u001b[39mas\u001b[39;00m \u001b[39mgeo\u001b[39;00m\n",
      "File \u001b[0;32m~/.local/lib/python3.10/site-packages/duckietown_world/__init__.py:18\u001b[0m\n\u001b[1;32m     15\u001b[0m _ \u001b[39m=\u001b[39m l\n\u001b[1;32m     17\u001b[0m \u001b[39m# remove noisy logging\u001b[39;00m\n\u001b[0;32m---> 18\u001b[0m \u001b[39mfrom\u001b[39;00m \u001b[39mduckietown_serialization_ds1\u001b[39;00m \u001b[39mimport\u001b[39;00m logger \u001b[39mas\u001b[39;00m dslogger\n\u001b[1;32m     19\u001b[0m dslogger\u001b[39m.\u001b[39msetLevel(logging\u001b[39m.\u001b[39mCRITICAL)\n\u001b[1;32m     21\u001b[0m \u001b[39mfrom\u001b[39;00m \u001b[39mcontracts\u001b[39;00m \u001b[39mimport\u001b[39;00m disable_all, __version__ \u001b[39mas\u001b[39;00m contracts_version\n",
      "File \u001b[0;32m~/.local/lib/python3.10/site-packages/duckietown_serialization_ds1/__init__.py:13\u001b[0m\n\u001b[1;32m     10\u001b[0m logging\u001b[39m.\u001b[39mbasicConfig()\n\u001b[1;32m     12\u001b[0m \u001b[39mfrom\u001b[39;00m \u001b[39m.\u001b[39;00m\u001b[39mexceptions\u001b[39;00m \u001b[39mimport\u001b[39;00m \u001b[39m*\u001b[39m\n\u001b[0;32m---> 13\u001b[0m \u001b[39mfrom\u001b[39;00m \u001b[39m.\u001b[39;00m\u001b[39mserialization1\u001b[39;00m \u001b[39mimport\u001b[39;00m \u001b[39m*\u001b[39m\n\u001b[1;32m     14\u001b[0m \u001b[39mfrom\u001b[39;00m \u001b[39m.\u001b[39;00m\u001b[39mbuiltin_dt\u001b[39;00m \u001b[39mimport\u001b[39;00m \u001b[39m*\u001b[39m\n\u001b[1;32m     15\u001b[0m \u001b[39mfrom\u001b[39;00m \u001b[39m.\u001b[39;00m\u001b[39mcli1\u001b[39;00m \u001b[39mimport\u001b[39;00m \u001b[39m*\u001b[39m\n",
      "File \u001b[0;32m~/.local/lib/python3.10/site-packages/duckietown_serialization_ds1/serialization1.py:10\u001b[0m\n\u001b[1;32m      7\u001b[0m \u001b[39mfrom\u001b[39;00m \u001b[39mcollections\u001b[39;00m \u001b[39mimport\u001b[39;00m OrderedDict\n\u001b[1;32m      8\u001b[0m \u001b[39mfrom\u001b[39;00m \u001b[39mcopy\u001b[39;00m \u001b[39mimport\u001b[39;00m deepcopy\n\u001b[0;32m---> 10\u001b[0m \u001b[39mimport\u001b[39;00m \u001b[39mnumpy\u001b[39;00m \u001b[39mas\u001b[39;00m \u001b[39mnp\u001b[39;00m\n\u001b[1;32m     12\u001b[0m \u001b[39mfrom\u001b[39;00m \u001b[39mzuper_commons\u001b[39;00m\u001b[39m.\u001b[39;00m\u001b[39mtypes\u001b[39;00m \u001b[39mimport\u001b[39;00m check_isinstance\n\u001b[1;32m     13\u001b[0m \u001b[39mfrom\u001b[39;00m \u001b[39m.\u001b[39;00m\u001b[39mexceptions\u001b[39;00m \u001b[39mimport\u001b[39;00m CouldNotDeserialize\n",
      "File \u001b[0;32m~/.local/lib/python3.10/site-packages/numpy/__init__.py:149\u001b[0m\n\u001b[1;32m    147\u001b[0m \u001b[39mfrom\u001b[39;00m \u001b[39m.\u001b[39;00m \u001b[39mimport\u001b[39;00m exceptions\n\u001b[1;32m    148\u001b[0m \u001b[39mfrom\u001b[39;00m \u001b[39m.\u001b[39;00m \u001b[39mimport\u001b[39;00m dtypes\n\u001b[0;32m--> 149\u001b[0m \u001b[39mfrom\u001b[39;00m \u001b[39m.\u001b[39;00m \u001b[39mimport\u001b[39;00m lib\n\u001b[1;32m    150\u001b[0m \u001b[39m# NOTE: to be revisited following future namespace cleanup.\u001b[39;00m\n\u001b[1;32m    151\u001b[0m \u001b[39m# See gh-14454 and gh-15672 for discussion.\u001b[39;00m\n\u001b[1;32m    152\u001b[0m \u001b[39mfrom\u001b[39;00m \u001b[39m.\u001b[39;00m\u001b[39mlib\u001b[39;00m \u001b[39mimport\u001b[39;00m \u001b[39m*\u001b[39m\n",
      "File \u001b[0;32m~/.local/lib/python3.10/site-packages/numpy/lib/__init__.py:23\u001b[0m\n\u001b[1;32m     20\u001b[0m \u001b[39m# Private submodules\u001b[39;00m\n\u001b[1;32m     21\u001b[0m \u001b[39m# load module names. See https://github.com/networkx/networkx/issues/5838\u001b[39;00m\n\u001b[1;32m     22\u001b[0m \u001b[39mfrom\u001b[39;00m \u001b[39m.\u001b[39;00m \u001b[39mimport\u001b[39;00m type_check\n\u001b[0;32m---> 23\u001b[0m \u001b[39mfrom\u001b[39;00m \u001b[39m.\u001b[39;00m \u001b[39mimport\u001b[39;00m index_tricks\n\u001b[1;32m     24\u001b[0m \u001b[39mfrom\u001b[39;00m \u001b[39m.\u001b[39;00m \u001b[39mimport\u001b[39;00m function_base\n\u001b[1;32m     25\u001b[0m \u001b[39mfrom\u001b[39;00m \u001b[39m.\u001b[39;00m \u001b[39mimport\u001b[39;00m nanfunctions\n",
      "File \u001b[0;32m~/.local/lib/python3.10/site-packages/numpy/lib/index_tricks.py:12\u001b[0m\n\u001b[1;32m      9\u001b[0m \u001b[39mfrom\u001b[39;00m \u001b[39mnumpy\u001b[39;00m\u001b[39m.\u001b[39;00m\u001b[39mcore\u001b[39;00m\u001b[39m.\u001b[39;00m\u001b[39mnumeric\u001b[39;00m \u001b[39mimport\u001b[39;00m ScalarType, array\n\u001b[1;32m     10\u001b[0m \u001b[39mfrom\u001b[39;00m \u001b[39mnumpy\u001b[39;00m\u001b[39m.\u001b[39;00m\u001b[39mcore\u001b[39;00m\u001b[39m.\u001b[39;00m\u001b[39mnumerictypes\u001b[39;00m \u001b[39mimport\u001b[39;00m issubdtype\n\u001b[0;32m---> 12\u001b[0m \u001b[39mimport\u001b[39;00m \u001b[39mnumpy\u001b[39;00m\u001b[39m.\u001b[39;00m\u001b[39mmatrixlib\u001b[39;00m \u001b[39mas\u001b[39;00m \u001b[39mmatrixlib\u001b[39;00m\n\u001b[1;32m     13\u001b[0m \u001b[39mfrom\u001b[39;00m \u001b[39m.\u001b[39;00m\u001b[39mfunction_base\u001b[39;00m \u001b[39mimport\u001b[39;00m diff\n\u001b[1;32m     14\u001b[0m \u001b[39mfrom\u001b[39;00m \u001b[39mnumpy\u001b[39;00m\u001b[39m.\u001b[39;00m\u001b[39mcore\u001b[39;00m\u001b[39m.\u001b[39;00m\u001b[39mmultiarray\u001b[39;00m \u001b[39mimport\u001b[39;00m ravel_multi_index, unravel_index\n",
      "File \u001b[0;32m~/.local/lib/python3.10/site-packages/numpy/matrixlib/__init__.py:4\u001b[0m\n\u001b[1;32m      1\u001b[0m \u001b[39m\"\"\"Sub-package containing the matrix class and related functions.\u001b[39;00m\n\u001b[1;32m      2\u001b[0m \n\u001b[1;32m      3\u001b[0m \u001b[39m\"\"\"\u001b[39;00m\n\u001b[0;32m----> 4\u001b[0m \u001b[39mfrom\u001b[39;00m \u001b[39m.\u001b[39;00m \u001b[39mimport\u001b[39;00m defmatrix\n\u001b[1;32m      5\u001b[0m \u001b[39mfrom\u001b[39;00m \u001b[39m.\u001b[39;00m\u001b[39mdefmatrix\u001b[39;00m \u001b[39mimport\u001b[39;00m \u001b[39m*\u001b[39m\n\u001b[1;32m      7\u001b[0m __all__ \u001b[39m=\u001b[39m defmatrix\u001b[39m.\u001b[39m__all__\n",
      "File \u001b[0;32m~/.local/lib/python3.10/site-packages/numpy/matrixlib/defmatrix.py:12\u001b[0m\n\u001b[1;32m      9\u001b[0m \u001b[39mfrom\u001b[39;00m \u001b[39mnumpy\u001b[39;00m\u001b[39m.\u001b[39;00m\u001b[39mcore\u001b[39;00m\u001b[39m.\u001b[39;00m\u001b[39mnumeric\u001b[39;00m \u001b[39mimport\u001b[39;00m concatenate, isscalar\n\u001b[1;32m     10\u001b[0m \u001b[39m# While not in __all__, matrix_power used to be defined here, so we import\u001b[39;00m\n\u001b[1;32m     11\u001b[0m \u001b[39m# it for backward compatibility.\u001b[39;00m\n\u001b[0;32m---> 12\u001b[0m \u001b[39mfrom\u001b[39;00m \u001b[39mnumpy\u001b[39;00m\u001b[39m.\u001b[39;00m\u001b[39mlinalg\u001b[39;00m \u001b[39mimport\u001b[39;00m matrix_power\n\u001b[1;32m     15\u001b[0m \u001b[39mdef\u001b[39;00m \u001b[39m_convert_from_string\u001b[39m(data):\n\u001b[1;32m     16\u001b[0m     \u001b[39mfor\u001b[39;00m char \u001b[39min\u001b[39;00m \u001b[39m'\u001b[39m\u001b[39m[]\u001b[39m\u001b[39m'\u001b[39m:\n",
      "File \u001b[0;32m~/.local/lib/python3.10/site-packages/numpy/linalg/__init__.py:73\u001b[0m\n\u001b[1;32m      1\u001b[0m \u001b[39m\"\"\"\u001b[39;00m\n\u001b[1;32m      2\u001b[0m \u001b[39m``numpy.linalg``\u001b[39;00m\n\u001b[1;32m      3\u001b[0m \u001b[39m================\u001b[39;00m\n\u001b[0;32m   (...)\u001b[0m\n\u001b[1;32m     70\u001b[0m \n\u001b[1;32m     71\u001b[0m \u001b[39m\"\"\"\u001b[39;00m\n\u001b[1;32m     72\u001b[0m \u001b[39m# To get sub-modules\u001b[39;00m\n\u001b[0;32m---> 73\u001b[0m \u001b[39mfrom\u001b[39;00m \u001b[39m.\u001b[39;00m \u001b[39mimport\u001b[39;00m linalg\n\u001b[1;32m     74\u001b[0m \u001b[39mfrom\u001b[39;00m \u001b[39m.\u001b[39;00m\u001b[39mlinalg\u001b[39;00m \u001b[39mimport\u001b[39;00m \u001b[39m*\u001b[39m\n\u001b[1;32m     76\u001b[0m __all__ \u001b[39m=\u001b[39m linalg\u001b[39m.\u001b[39m__all__\u001b[39m.\u001b[39mcopy()\n",
      "File \u001b[0;32m~/.local/lib/python3.10/site-packages/numpy/linalg/linalg.py:37\u001b[0m\n\u001b[1;32m     34\u001b[0m \u001b[39mfrom\u001b[39;00m \u001b[39mnumpy\u001b[39;00m\u001b[39m.\u001b[39;00m\u001b[39mlib\u001b[39;00m\u001b[39m.\u001b[39;00m\u001b[39mtwodim_base\u001b[39;00m \u001b[39mimport\u001b[39;00m triu, eye\n\u001b[1;32m     35\u001b[0m \u001b[39mfrom\u001b[39;00m \u001b[39mnumpy\u001b[39;00m\u001b[39m.\u001b[39;00m\u001b[39mlinalg\u001b[39;00m \u001b[39mimport\u001b[39;00m _umath_linalg\n\u001b[0;32m---> 37\u001b[0m \u001b[39mfrom\u001b[39;00m \u001b[39mnumpy\u001b[39;00m\u001b[39m.\u001b[39;00m\u001b[39m_typing\u001b[39;00m \u001b[39mimport\u001b[39;00m NDArray\n\u001b[1;32m     39\u001b[0m \u001b[39mclass\u001b[39;00m \u001b[39mEigResult\u001b[39;00m(NamedTuple):\n\u001b[1;32m     40\u001b[0m     eigenvalues: NDArray[Any]\n",
      "File \u001b[0;32m~/.local/lib/python3.10/site-packages/numpy/_typing/__init__.py:92\u001b[0m\n\u001b[1;32m     88\u001b[0m \u001b[39mclass\u001b[39;00m \u001b[39m_8Bit\u001b[39;00m(_16Bit):  \u001b[39m# type: ignore[misc]\u001b[39;00m\n\u001b[1;32m     89\u001b[0m     \u001b[39mpass\u001b[39;00m\n\u001b[0;32m---> 92\u001b[0m \u001b[39mfrom\u001b[39;00m \u001b[39m.\u001b[39;00m\u001b[39m_nested_sequence\u001b[39;00m \u001b[39mimport\u001b[39;00m (\n\u001b[1;32m     93\u001b[0m     _NestedSequence \u001b[39mas\u001b[39;00m _NestedSequence,\n\u001b[1;32m     94\u001b[0m )\n\u001b[1;32m     95\u001b[0m \u001b[39mfrom\u001b[39;00m \u001b[39m.\u001b[39;00m\u001b[39m_nbit\u001b[39;00m \u001b[39mimport\u001b[39;00m (\n\u001b[1;32m     96\u001b[0m     _NBitByte \u001b[39mas\u001b[39;00m _NBitByte,\n\u001b[1;32m     97\u001b[0m     _NBitShort \u001b[39mas\u001b[39;00m _NBitShort,\n\u001b[0;32m   (...)\u001b[0m\n\u001b[1;32m    105\u001b[0m     _NBitLongDouble \u001b[39mas\u001b[39;00m _NBitLongDouble,\n\u001b[1;32m    106\u001b[0m )\n\u001b[1;32m    107\u001b[0m \u001b[39mfrom\u001b[39;00m \u001b[39m.\u001b[39;00m\u001b[39m_char_codes\u001b[39;00m \u001b[39mimport\u001b[39;00m (\n\u001b[1;32m    108\u001b[0m     _BoolCodes \u001b[39mas\u001b[39;00m _BoolCodes,\n\u001b[1;32m    109\u001b[0m     _UInt8Codes \u001b[39mas\u001b[39;00m _UInt8Codes,\n\u001b[0;32m   (...)\u001b[0m\n\u001b[1;32m    146\u001b[0m     _ObjectCodes \u001b[39mas\u001b[39;00m _ObjectCodes,\n\u001b[1;32m    147\u001b[0m )\n",
      "File \u001b[0;32m~/.local/lib/python3.10/site-packages/numpy/_typing/_nested_sequence.py:19\u001b[0m\n\u001b[1;32m     13\u001b[0m __all__ \u001b[39m=\u001b[39m [\u001b[39m\"\u001b[39m\u001b[39m_NestedSequence\u001b[39m\u001b[39m\"\u001b[39m]\n\u001b[1;32m     15\u001b[0m _T_co \u001b[39m=\u001b[39m TypeVar(\u001b[39m\"\u001b[39m\u001b[39m_T_co\u001b[39m\u001b[39m\"\u001b[39m, covariant\u001b[39m=\u001b[39m\u001b[39mTrue\u001b[39;00m)\n\u001b[1;32m     18\u001b[0m \u001b[39m@runtime_checkable\u001b[39;49m\n\u001b[0;32m---> 19\u001b[0m \u001b[39mclass\u001b[39;49;00m \u001b[39m_NestedSequence\u001b[39;49;00m(Protocol[_T_co]):\n\u001b[1;32m     20\u001b[0m \u001b[39m    \u001b[39;49m\u001b[39m\"\"\"A protocol for representing nested sequences.\u001b[39;49;00m\n\u001b[1;32m     21\u001b[0m \n\u001b[1;32m     22\u001b[0m \u001b[39m    Warning\u001b[39;49;00m\n\u001b[0;32m   (...)\u001b[0m\n\u001b[1;32m     57\u001b[0m \n\u001b[1;32m     58\u001b[0m \u001b[39m    \"\"\"\u001b[39;49;00m\n\u001b[1;32m     60\u001b[0m     \u001b[39mdef\u001b[39;49;00m \u001b[39m__len__\u001b[39;49m(\u001b[39mself\u001b[39;49m, \u001b[39m/\u001b[39;49m) \u001b[39m-\u001b[39;49m\u001b[39m>\u001b[39;49m \u001b[39mint\u001b[39;49m:\n",
      "File \u001b[0;32m/usr/lib/python3.10/typing.py:1731\u001b[0m, in \u001b[0;36mruntime_checkable\u001b[0;34m(cls)\u001b[0m\n\u001b[1;32m   1713\u001b[0m \u001b[39m\u001b[39m\u001b[39m\"\"\"Mark a protocol class as a runtime protocol.\u001b[39;00m\n\u001b[1;32m   1714\u001b[0m \n\u001b[1;32m   1715\u001b[0m \u001b[39mSuch protocol can be used with isinstance() and issubclass().\u001b[39;00m\n\u001b[0;32m   (...)\u001b[0m\n\u001b[1;32m   1728\u001b[0m \u001b[39mnot their type signatures!\u001b[39;00m\n\u001b[1;32m   1729\u001b[0m \u001b[39m\"\"\"\u001b[39;00m\n\u001b[1;32m   1730\u001b[0m \u001b[39mif\u001b[39;00m \u001b[39mnot\u001b[39;00m \u001b[39missubclass\u001b[39m(\u001b[39mcls\u001b[39m, Generic) \u001b[39mor\u001b[39;00m \u001b[39mnot\u001b[39;00m \u001b[39mcls\u001b[39m\u001b[39m.\u001b[39m_is_protocol:\n\u001b[0;32m-> 1731\u001b[0m     \u001b[39mraise\u001b[39;00m \u001b[39mTypeError\u001b[39;00m(\u001b[39m'\u001b[39m\u001b[39m@runtime_checkable can be only applied to protocol classes,\u001b[39m\u001b[39m'\u001b[39m\n\u001b[1;32m   1732\u001b[0m                     \u001b[39m'\u001b[39m\u001b[39m got \u001b[39m\u001b[39m%r\u001b[39;00m\u001b[39m'\u001b[39m \u001b[39m%\u001b[39m \u001b[39mcls\u001b[39m)\n\u001b[1;32m   1733\u001b[0m \u001b[39mcls\u001b[39m\u001b[39m.\u001b[39m_is_runtime_protocol \u001b[39m=\u001b[39m \u001b[39mTrue\u001b[39;00m\n\u001b[1;32m   1734\u001b[0m \u001b[39mreturn\u001b[39;00m \u001b[39mcls\u001b[39m\n",
      "\u001b[0;31mTypeError\u001b[0m: @runtime_checkable can be only applied to protocol classes, got <class 'zuper_json.zeneric2._NestedSequence'>"
     ]
    }
   ],
   "source": [
    "import sys\n",
    "\n",
    "sys.path.append('/home/vincent/.dt-shell/recipes/duckietown/duckietown-lx-recipes/mooc2022/modcon/packages/simulators')\n",
    "\n",
    "from dynamics_sim import integrate_dynamics\n",
    "\n",
    "#from simulators import integrate_dynamics\n",
    "from solution.pid_controller_homework import PIDController\n",
    "\n",
    "def tune_gains(kp,kd,ki):\n",
    "        # write values from sliders to file GAINS.yaml\n",
    "        update_gains(kp,kd,ki)\n",
    "\n",
    "        # simulate the controller\n",
    "        compute_response(initial_pose,y_ref=y_ref,dynamics=integrate_dynamics)\n",
    "\n",
    "interact(tune_gains, kp=5.0,kd=5.0,ki=1.0)"
   ]
  },
  {
   "cell_type": "markdown",
   "metadata": {},
   "source": [
    "# PID Tuning: dynamic model with odometry\n",
    "\n",
    "Now to get the current pose we use the odometry function you developed. In particular $\\hat{y}$ (the estimate of the current $y$ position) is fed to the PID controller and the `dynamics` function now also gets as argument the two functions you developed in the odometry activity (`delta_phi` and `pose_estimation`)."
   ]
  },
  {
   "cell_type": "code",
   "execution_count": 19,
   "metadata": {},
   "outputs": [
    {
     "name": "stderr",
     "output_type": "stream",
     "text": [
      "INFO:dt-world:duckietown-world 1.0.30\n"
     ]
    },
    {
     "ename": "AttributeError",
     "evalue": "module 'collections' has no attribute 'Container'",
     "output_type": "error",
     "traceback": [
      "\u001b[0;31m---------------------------------------------------------------------------\u001b[0m",
      "\u001b[0;31mAttributeError\u001b[0m                            Traceback (most recent call last)",
      "\u001b[1;32m/home/vincent/duckietown-lx/modcon/notebooks/06-PID-Control-Exercise/PID_controller_exercise.ipynb Cell 16\u001b[0m line \u001b[0;36m5\n\u001b[1;32m      <a href='vscode-notebook-cell:/home/vincent/duckietown-lx/modcon/notebooks/06-PID-Control-Exercise/PID_controller_exercise.ipynb#X21sZmlsZQ%3D%3D?line=0'>1</a>\u001b[0m \u001b[39mimport\u001b[39;00m \u001b[39msys\u001b[39;00m\n\u001b[1;32m      <a href='vscode-notebook-cell:/home/vincent/duckietown-lx/modcon/notebooks/06-PID-Control-Exercise/PID_controller_exercise.ipynb#X21sZmlsZQ%3D%3D?line=2'>3</a>\u001b[0m sys\u001b[39m.\u001b[39mpath\u001b[39m.\u001b[39mappend(\u001b[39m'\u001b[39m\u001b[39m/home/vincent/.dt-shell/recipes/duckietown/duckietown-lx-recipes/mooc2022/modcon/packages/simulators\u001b[39m\u001b[39m'\u001b[39m)\n\u001b[0;32m----> <a href='vscode-notebook-cell:/home/vincent/duckietown-lx/modcon/notebooks/06-PID-Control-Exercise/PID_controller_exercise.ipynb#X21sZmlsZQ%3D%3D?line=4'>5</a>\u001b[0m \u001b[39mfrom\u001b[39;00m \u001b[39mdynamics_sim\u001b[39;00m \u001b[39mimport\u001b[39;00m integrate_dynamics\n\u001b[1;32m      <a href='vscode-notebook-cell:/home/vincent/duckietown-lx/modcon/notebooks/06-PID-Control-Exercise/PID_controller_exercise.ipynb#X21sZmlsZQ%3D%3D?line=6'>7</a>\u001b[0m \u001b[39mfrom\u001b[39;00m \u001b[39msolution\u001b[39;00m\u001b[39m.\u001b[39;00m\u001b[39modometry_activity\u001b[39;00m \u001b[39mimport\u001b[39;00m  delta_phi, pose_estimation\n\u001b[1;32m      <a href='vscode-notebook-cell:/home/vincent/duckietown-lx/modcon/notebooks/06-PID-Control-Exercise/PID_controller_exercise.ipynb#X21sZmlsZQ%3D%3D?line=8'>9</a>\u001b[0m \u001b[39m# We redefine `compute_response` to use the odometry functions as well\u001b[39;00m\n",
      "File \u001b[0;32m~/.dt-shell/recipes/duckietown/duckietown-lx-recipes/mooc2022/modcon/packages/simulators/dynamics_sim.py:1\u001b[0m\n\u001b[0;32m----> 1\u001b[0m \u001b[39mfrom\u001b[39;00m \u001b[39mduckietown_world\u001b[39;00m \u001b[39mimport\u001b[39;00m (\n\u001b[1;32m      2\u001b[0m     get_DB18_nominal,\n\u001b[1;32m      3\u001b[0m     PlatformDynamics,\n\u001b[1;32m      4\u001b[0m     PWMCommands,\n\u001b[1;32m      5\u001b[0m     SampledSequenceBuilder,\n\u001b[1;32m      6\u001b[0m     SE2Transform,\n\u001b[1;32m      7\u001b[0m     DynamicModel,\n\u001b[1;32m      8\u001b[0m )\n\u001b[1;32m     10\u001b[0m \u001b[39mimport\u001b[39;00m \u001b[39mnumpy\u001b[39;00m \u001b[39mas\u001b[39;00m \u001b[39mnp\u001b[39;00m\n\u001b[1;32m     11\u001b[0m \u001b[39mimport\u001b[39;00m \u001b[39mgeometry\u001b[39;00m \u001b[39mas\u001b[39;00m \u001b[39mgeo\u001b[39;00m\n",
      "File \u001b[0;32m~/.local/lib/python3.10/site-packages/duckietown_world/__init__.py:21\u001b[0m\n\u001b[1;32m     18\u001b[0m \u001b[39mfrom\u001b[39;00m \u001b[39mduckietown_serialization_ds1\u001b[39;00m \u001b[39mimport\u001b[39;00m logger \u001b[39mas\u001b[39;00m dslogger\n\u001b[1;32m     19\u001b[0m dslogger\u001b[39m.\u001b[39msetLevel(logging\u001b[39m.\u001b[39mCRITICAL)\n\u001b[0;32m---> 21\u001b[0m \u001b[39mfrom\u001b[39;00m \u001b[39mcontracts\u001b[39;00m \u001b[39mimport\u001b[39;00m disable_all, __version__ \u001b[39mas\u001b[39;00m contracts_version\n\u001b[1;32m     22\u001b[0m logger\u001b[39m.\u001b[39minfo(\u001b[39m'\u001b[39m\u001b[39mcontracts \u001b[39m\u001b[39m%s\u001b[39;00m\u001b[39m \u001b[39m\u001b[39m'\u001b[39m \u001b[39m%\u001b[39m contracts_version)\n\u001b[1;32m     23\u001b[0m disable_all()\n",
      "File \u001b[0;32m~/.local/lib/python3.10/site-packages/contracts/__init__.py:44\u001b[0m\n\u001b[1;32m     41\u001b[0m ContractsMeta\u001b[39m.\u001b[39m\u001b[39m__module__\u001b[39m \u001b[39m=\u001b[39m \u001b[39m'\u001b[39m\u001b[39mcontracts\u001b[39m\u001b[39m'\u001b[39m\n\u001b[1;32m     43\u001b[0m \u001b[39m# And after everything else is loaded, load the  utils\u001b[39;00m\n\u001b[0;32m---> 44\u001b[0m \u001b[39mfrom\u001b[39;00m \u001b[39m.\u001b[39;00m\u001b[39museful_contracts\u001b[39;00m \u001b[39mimport\u001b[39;00m \u001b[39m*\u001b[39m\n\u001b[1;32m     45\u001b[0m \u001b[39m# After everything is loaded, load aliases\u001b[39;00m\n\u001b[1;32m     46\u001b[0m \u001b[39m# from .library import miscellaneous_aliases  # @UnusedImport\u001b[39;00m\n",
      "File \u001b[0;32m~/.local/lib/python3.10/site-packages/contracts/useful_contracts/__init__.py:8\u001b[0m\n\u001b[1;32m      6\u001b[0m     \u001b[39mpass\u001b[39;00m\n\u001b[1;32m      7\u001b[0m \u001b[39melse\u001b[39;00m:\n\u001b[0;32m----> 8\u001b[0m     \u001b[39mfrom\u001b[39;00m \u001b[39m.\u001b[39;00m\u001b[39mnumpy_specific\u001b[39;00m \u001b[39mimport\u001b[39;00m \u001b[39m*\u001b[39m    \n\u001b[1;32m     10\u001b[0m \u001b[39mfrom\u001b[39;00m \u001b[39m.\u001b[39;00m\u001b[39mnumbers\u001b[39;00m \u001b[39mimport\u001b[39;00m \u001b[39m*\u001b[39m\n\u001b[1;32m     13\u001b[0m new_contract(\u001b[39m'\u001b[39m\u001b[39mbytes\u001b[39m\u001b[39m'\u001b[39m, \u001b[39mbytes\u001b[39m)\n",
      "File \u001b[0;32m~/.local/lib/python3.10/site-packages/contracts/useful_contracts/numpy_specific.py:8\u001b[0m\n\u001b[1;32m      3\u001b[0m \u001b[39mfrom\u001b[39;00m \u001b[39mcontracts\u001b[39;00m\u001b[39m.\u001b[39;00m\u001b[39minterface\u001b[39;00m \u001b[39mimport\u001b[39;00m describe_value, describe_type\n\u001b[1;32m      5\u001b[0m __all__ \u001b[39m=\u001b[39m [\u001b[39m'\u001b[39m\u001b[39mfinite\u001b[39m\u001b[39m'\u001b[39m]\n\u001b[1;32m      7\u001b[0m \u001b[39m@new_contract\u001b[39;49m\n\u001b[0;32m----> 8\u001b[0m \u001b[39mdef\u001b[39;49;00m \u001b[39mfinite\u001b[39;49m(x):\n\u001b[1;32m      9\u001b[0m     \u001b[39mreturn\u001b[39;49;00m np\u001b[39m.\u001b[39;49misfinite(x)\u001b[39m.\u001b[39;49mall()\n\u001b[1;32m     11\u001b[0m new_contract(\u001b[39m'\u001b[39m\u001b[39mnp_scalar_uint\u001b[39m\u001b[39m'\u001b[39m, \u001b[39m'\u001b[39m\u001b[39mnp_uint8|np_uint16|np_uint32|np_uint64\u001b[39m\u001b[39m'\u001b[39m)\n",
      "File \u001b[0;32m~/.local/lib/python3.10/site-packages/contracts/__init__.py:28\u001b[0m, in \u001b[0;36mnew_contract\u001b[0;34m(*args)\u001b[0m\n\u001b[1;32m     27\u001b[0m \u001b[39mdef\u001b[39;00m \u001b[39mnew_contract\u001b[39m(\u001b[39m*\u001b[39margs):\n\u001b[0;32m---> 28\u001b[0m     \u001b[39mreturn\u001b[39;00m new_contract_main(\u001b[39m*\u001b[39;49margs)\n",
      "File \u001b[0;32m~/.local/lib/python3.10/site-packages/contracts/main.py:553\u001b[0m, in \u001b[0;36mnew_contract\u001b[0;34m(*args)\u001b[0m\n\u001b[1;32m    551\u001b[0m         \u001b[39mreturn\u001b[39;00m function\n\u001b[1;32m    552\u001b[0m     identifier \u001b[39m=\u001b[39m function\u001b[39m.\u001b[39m\u001b[39m__name__\u001b[39m\n\u001b[0;32m--> 553\u001b[0m     new_contract_impl(identifier, function)\n\u001b[1;32m    554\u001b[0m     \u001b[39mreturn\u001b[39;00m function\n\u001b[1;32m    555\u001b[0m \u001b[39melse\u001b[39;00m:\n",
      "File \u001b[0;32m~/.local/lib/python3.10/site-packages/contracts/main.py:563\u001b[0m, in \u001b[0;36mnew_contract_impl\u001b[0;34m(identifier, condition)\u001b[0m\n\u001b[1;32m    561\u001b[0m \u001b[39mdef\u001b[39;00m \u001b[39mnew_contract_impl\u001b[39m(identifier, condition):\n\u001b[0;32m--> 563\u001b[0m     \u001b[39mfrom\u001b[39;00m \u001b[39m.\u001b[39;00m\u001b[39msyntax\u001b[39;00m \u001b[39mimport\u001b[39;00m ParseException\n\u001b[1;32m    564\u001b[0m     \u001b[39mfrom\u001b[39;00m \u001b[39m.\u001b[39;00m\u001b[39mlibrary\u001b[39;00m\u001b[39m.\u001b[39;00m\u001b[39mextensions\u001b[39;00m \u001b[39mimport\u001b[39;00m CheckCallableWithSelf\n\u001b[1;32m    565\u001b[0m     \u001b[39mfrom\u001b[39;00m \u001b[39m.\u001b[39;00m\u001b[39mlibrary\u001b[39;00m \u001b[39mimport\u001b[39;00m (CheckCallable, Extension, SeparateContext,\n\u001b[1;32m    566\u001b[0m         identifier_expression)\n",
      "File \u001b[0;32m~/.local/lib/python3.10/site-packages/contracts/syntax.py:91\u001b[0m\n\u001b[1;32m     88\u001b[0m simple_contract\u001b[39m.\u001b[39msetName(\u001b[39m'\u001b[39m\u001b[39msimple_contract\u001b[39m\u001b[39m'\u001b[39m)\n\u001b[1;32m     90\u001b[0m \u001b[39m# Import all expressions -- they will call add_contract()\u001b[39;00m\n\u001b[0;32m---> 91\u001b[0m \u001b[39mfrom\u001b[39;00m \u001b[39m.\u001b[39;00m\u001b[39mlibrary\u001b[39;00m \u001b[39mimport\u001b[39;00m (EqualTo, Unary, Binary, composite_contract,\n\u001b[1;32m     92\u001b[0m                       identifier_contract, misc_variables_contract,\n\u001b[1;32m     93\u001b[0m                       scoped_variables_ref,\n\u001b[1;32m     94\u001b[0m                       int_variables_contract, int_variables_ref,\n\u001b[1;32m     95\u001b[0m                       misc_variables_ref, SimpleRValue)\n\u001b[1;32m     98\u001b[0m number \u001b[39m=\u001b[39m pi \u001b[39m|\u001b[39m floatnumber \u001b[39m|\u001b[39m integer\n\u001b[1;32m     99\u001b[0m operand \u001b[39m=\u001b[39m number \u001b[39m|\u001b[39m int_variables_ref \u001b[39m|\u001b[39m misc_variables_ref \u001b[39m|\u001b[39m scoped_variables_ref\n",
      "File \u001b[0;32m~/.local/lib/python3.10/site-packages/contracts/library/__init__.py:38\u001b[0m\n\u001b[1;32m     35\u001b[0m \u001b[39mfrom\u001b[39;00m \u001b[39m.\u001b[39;00m\u001b[39misinstance_imp\u001b[39;00m \u001b[39mimport\u001b[39;00m \u001b[39m*\u001b[39m\n\u001b[1;32m     36\u001b[0m \u001b[39mfrom\u001b[39;00m \u001b[39m.\u001b[39;00m\u001b[39mscoped_variables\u001b[39;00m \u001b[39mimport\u001b[39;00m scoped_variables_ref\n\u001b[0;32m---> 38\u001b[0m \u001b[39mfrom\u001b[39;00m \u001b[39m.\u001b[39;00m\u001b[39mmiscellaneous_aliases\u001b[39;00m \u001b[39mimport\u001b[39;00m \u001b[39m*\u001b[39m\n",
      "File \u001b[0;32m~/.local/lib/python3.10/site-packages/contracts/library/miscellaneous_aliases.py:19\u001b[0m\n\u001b[1;32m     15\u001b[0m     \u001b[39mfrom\u001b[39;00m \u001b[39mcontracts\u001b[39;00m\u001b[39m.\u001b[39;00m\u001b[39mlibrary\u001b[39;00m\u001b[39m.\u001b[39;00m\u001b[39mextensions\u001b[39;00m \u001b[39mimport\u001b[39;00m Extension\n\u001b[1;32m     16\u001b[0m     Extension\u001b[39m.\u001b[39mregistrar[name] \u001b[39m=\u001b[39m CheckCallable(f)\n\u001b[0;32m---> 19\u001b[0m m_new_contract(\u001b[39m'\u001b[39m\u001b[39mContainer\u001b[39m\u001b[39m'\u001b[39m, ist(collections\u001b[39m.\u001b[39;49mContainer))\n\u001b[1;32m     20\u001b[0m \u001b[39m# todo: Iterable(x)\u001b[39;00m\n\u001b[1;32m     21\u001b[0m m_new_contract(\u001b[39m'\u001b[39m\u001b[39mIterable\u001b[39m\u001b[39m'\u001b[39m, ist(collections\u001b[39m.\u001b[39mIterable))\n",
      "\u001b[0;31mAttributeError\u001b[0m: module 'collections' has no attribute 'Container'"
     ]
    }
   ],
   "source": [
    "from solution.odometry_activity import  delta_phi, pose_estimation\n",
    "\n",
    "# We redefine `compute_response` to use the odometry functions as well\n",
    "\n",
    "def compute_response(initial_pose, initial_vel = [0,0], y_ref=0,dynamics=integrate_kinematics):\n",
    "    \n",
    "    xs, ys, omegas, e_list, angles = dynamics(\n",
    "        initial_pose,initial_vel,y_ref,controller=PIDController,odometry_function=pose_estimation,delta_phi=delta_phi\n",
    "        )\n",
    "        \n",
    "    plot_xy_from_lists(xs,ys,y_ref)\n",
    "\n",
    "def tune_gains(kp,kd,ki):\n",
    "        # write values from sliders to file GAINS.yaml\n",
    "        update_gains(kp,kd,ki)\n",
    "\n",
    "        # simulate the controller\n",
    "        compute_response(initial_pose,y_ref=y_ref,dynamics=integrate_dynamics)\n",
    "\n",
    "interact(tune_gains, kp=5.0,kd=5.0,ki=1.0)"
   ]
  },
  {
   "cell_type": "markdown",
   "metadata": {},
   "source": [
    "You see that there's a difference in the behavior of the robot compared to the dynamics simulator _without odometry_.\n",
    "\n",
    "*   Can you explain what is it?\n",
    "*   What do you think might be the cause of this difference?\n",
    "*   How could you check if your hypothesis is correct?"
   ]
  },
  {
   "cell_type": "markdown",
   "metadata": {},
   "source": [
    "## Testing instructions and outcome examples\n",
    "\n",
    "Here are some examples of stable outcomes (not necessarily the best you can get):\n",
    "\n",
    "### 💻 Simulation \n",
    "\n",
    "1. Write the controller above, save this page (`Ctrl-S`), and run both:\n",
    "\n",
    "        dts code build\n",
    "        dts code workbench --sim\n",
    "\n",
    "\n",
    "2. Click on the \"PID Exercise\" icon on the VNC desktop\n",
    "\n",
    "3. Bring up the interaction panel (it might be hidden behind RVIZ, highlight it through the shortcut on the bottom bar of VNC) and type the desired reference position $y_{ref}$ (in **meters**) and Duckiebot linear speed ($v_0$). \n",
    "\n",
    "4. Press on `Send Commands` to start, `Stop` to stop. \n",
    "\n",
    "5. `Ctrl-C` on the computer terminal used to launch the simulator to close the instance. \n",
    "\n",
    "<figure>\n",
    "  <div style=\"text-align:center;\">\n",
    "  <img src=\"../../assets/images/pid-control/pid-lateral-sim-good.png\" alt=\"pid-lateral-sim-1\" style=\"width: 300px;\"/>\n",
    "  <p>Simulation, lateral PID control. \n",
    "\n",
    "$$v_{0} = 0.2, y_{ref} = [0.2, -0.1]$$\n",
    "</p>\n",
    "  </div>\n",
    "</figure>\n",
    "\n",
    "### 🚙 Duckiebot\n",
    "\n",
    "0. Make sure your Duckiebot is powered on and connected to the network. Note: For the controller to run properly on your robot, you need to have completed the [camera calibration](https://docs.duckietown.com/daffy/opmanual-duckiebot/operations/calibration_camera/index.html) and [wheel calibration](https://docs.duckietown.com/daffy/opmanual-duckiebot/operations/calibration_wheels/index.html) steps found in the Duckiebot operation manual.\n",
    "\n",
    "1. Write the controller above, save this page (`Ctrl-S`), run:\n",
    "\n",
    "\n",
    "        dts code build\n",
    "        dts code workbench -b ROBOTNAME\n",
    "\n",
    "\n",
    "2. Click on the \"PID Exercise\" icon on the VNC desktop\n",
    "\n",
    "3. Bring up the interaction panel (it might be hidden behind RVIZ, highlight it through the shortcut on the bottom bar of VNC) and type the desired reference position $y_{ref}$ (in **meters**) and Duckiebot linear speed ($v_0$). \n",
    "\n",
    "4. Press on `Send Commands` to start, `Stop` to stop. \n",
    "\n",
    "5. `Ctrl-C` on the computer terminal used to launch the simulator to close the instance. \n",
    "\n",
    "<figure>\n",
    "  <div style=\"text-align:center;\">\n",
    "  <img src=\"../../assets/images/pid-control/pid-lateral-real-good.png\" alt=\"pid-lateral-real-1\" style=\"width: 300px;\"/>\n",
    "  <p>Duckiebot, lateral PID control. \n",
    "  \n",
    "  $$v_{0} = 0.2, y_{ref} = [0.2, -0.2, 0.2]$$\n",
    "  </p>\n",
    "  </div>\n",
    "</figure>"
   ]
  },
  {
   "cell_type": "markdown",
   "metadata": {},
   "source": [
    "# Local evaluation and remote submission of your homework exercise\n",
    "\n",
    "\n",
    "⚠️ You must submit this homework for evaluation, by following the `Remote evalutation` instructions below.⚠️ \n",
    "\n",
    "## Local evaluation\n",
    "\n",
    "If you want (this is not necessary) you can evaluate your submission locally before shipping it to the cloud. This will provide you access to detailed performacne metrics of your controller on various episodes. Note that this will take a while to run (~30-60 minutes). \n",
    "\n",
    "1. Open a terminal, navigate to the exercise folder and run:\n",
    "\n",
    "\n",
    "        dts code evaluate\n",
    "        \n",
    "\n",
    "2. The result of the simulation can be visualized in realtime at the link printed by the evaluator, for example:\n",
    "\n",
    "<figure>\n",
    "  <div style=\"text-align:center;\">\n",
    "  <img src=\"../../assets/images/pid-exercise/screen-aido-eval.png\" alt=\"pid-lateral-real-1\" style=\"width: 900px;\"/>\n",
    "  <p>Visualize the simulation at the link printed during the evaluation.</p>\n",
    "  </div>\n",
    "</figure>\n",
    "\n",
    "3. The evaluation output is saved locally at the end of the evaluation process. \n",
    "\n",
    "## Remote submission (⚠️ This part is required to submit your homework ⚠️)\n",
    "\n",
    "You can submit your agent for evaluation by: \n",
    "\n",
    "1. Opening a terminal on your computer, navigating to the exercise folder and running:\n",
    "\n",
    "\n",
    "        dts code submit\n",
    "        \n",
    "\n",
    "2. The result of the submission can be visualized on the AI-DO challenges website.\n",
    "\n",
    "After some processing, you should see something like this:\n",
    "\n",
    "```\n",
    "\n",
    "~        ## Challenge lx22-modcon - MOOC - ModCon\n",
    "~        \n",
    "~                Track this submission at:\n",
    "~        \n",
    "~                    https://challenges.duckietown.org/v4/humans/submissions/SUBMISSION-NUMBER\n",
    "~        \n",
    "~                You can follow its fate using:\n",
    "~        \n",
    "~                    $ dts challenges follow --submission SUBMISSION-NUMBER\n",
    "~        \n",
    "~                You can speed up the evaluation using your own evaluator:\n",
    "~        \n",
    "~                    $ dts challenges evaluator --submission SUBMISSION-NUMBER\n",
    "~        \n",
    "~                For more information, see the manual at https://docs-old.duckietown.org/daffy/AIDO/out/\n",
    "~        \n",
    "\n",
    "```"
   ]
  },
  {
   "cell_type": "markdown",
   "metadata": {},
   "source": [
    "Congratulations, you have completed the modeling and control activities! "
   ]
  }
 ],
 "metadata": {
  "kernelspec": {
   "display_name": "Python 3.8.10 64-bit",
   "language": "python",
   "name": "python3"
  },
  "language_info": {
   "codemirror_mode": {
    "name": "ipython",
    "version": 3
   },
   "file_extension": ".py",
   "mimetype": "text/x-python",
   "name": "python",
   "nbconvert_exporter": "python",
   "pygments_lexer": "ipython3",
   "version": "3.10.12"
  },
  "metadata": {
   "interpreter": {
    "hash": "31f2aee4e71d21fbe5cf8b01ff0e069b9275f58929596ceb00d14d90e3e16cd6"
   }
  },
  "vscode": {
   "interpreter": {
    "hash": "916dbcbb3f70747c44a77c7bcd40155683ae19c65e1c03b4aa3499c5328201f1"
   }
  }
 },
 "nbformat": 4,
 "nbformat_minor": 4
}
